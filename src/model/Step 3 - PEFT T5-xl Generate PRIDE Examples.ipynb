{
 "cells": [
  {
   "cell_type": "code",
   "execution_count": 1,
   "metadata": {},
   "outputs": [
    {
     "name": "stdout",
     "output_type": "stream",
     "text": [
      "\n",
      "===================================BUG REPORT===================================\n",
      "Welcome to bitsandbytes. For bug reports, please run\n",
      "\n",
      "python -m bitsandbytes\n",
      "\n",
      " and submit this information together with your error trace to: https://github.com/TimDettmers/bitsandbytes/issues\n",
      "================================================================================\n",
      "bin /opt/anaconda/lib/python3.9/site-packages/bitsandbytes/libbitsandbytes_cuda115.so\n",
      "CUDA SETUP: CUDA runtime path found: /usr/lib/x86_64-linux-gnu/libcudart.so\n",
      "CUDA SETUP: Highest compute capability among GPUs detected: 8.6\n",
      "CUDA SETUP: Detected CUDA version 115\n",
      "CUDA SETUP: Loading binary /opt/anaconda/lib/python3.9/site-packages/bitsandbytes/libbitsandbytes_cuda115.so...\n"
     ]
    },
    {
     "name": "stderr",
     "output_type": "stream",
     "text": [
      "/opt/anaconda/lib/python3.9/site-packages/bitsandbytes/cuda_setup/main.py:149: UserWarning: WARNING: The following directories listed in your path were found to be non-existent: {PosixPath('lib')}\n",
      "  warn(msg)\n",
      "/opt/anaconda/lib/python3.9/site-packages/bitsandbytes/cuda_setup/main.py:149: UserWarning:  did not contain ['libcudart.so', 'libcudart.so.11.0', 'libcudart.so.12.0'] as expected! Searching further paths...\n",
      "  warn(msg)\n"
     ]
    }
   ],
   "source": [
    "import os\n",
    "os.environ['LD_LIBRARY_PATH'] = '/usr/lib/x86_64-linux-gnu/'\n",
    "os.environ['CONDA_PREFIX'] = ''\n",
    "\n",
    "import pandas as pd\n",
    "import datasets\n",
    "from transformers import RobertaTokenizerFast, RobertaForSequenceClassification,Trainer, TrainingArguments\n",
    "import torch.nn as nn\n",
    "import torch\n",
    "from datasets import Dataset, DatasetDict\n",
    "import numpy as np\n",
    "from sklearn.metrics import accuracy_score, recall_score, precision_score, f1_score, precision_recall_fscore_support\n",
    "import wandb\n",
    "import os\n",
    "import evaluate\n",
    "from transformers import AutoTokenizer\n",
    "from transformers import DataCollatorWithPadding\n",
    "from transformers import AutoModelForSequenceClassification, TrainingArguments, Trainer, AutoModelForSeq2SeqLM\n",
    "from sklearn.dummy import DummyClassifier\n",
    "from collections import Counter\n",
    "from transformers import AutoModelForCausalLM, AutoTokenizer, default_data_collator, get_linear_schedule_with_warmup\n",
    "from peft import get_peft_config, get_peft_model, PromptTuningInit, PrefixTuningConfig, PromptTuningConfig, TaskType, PeftType\n",
    "import torch\n",
    "from datasets import load_dataset\n",
    "import os\n",
    "from torch.utils.data import DataLoader\n",
    "from tqdm.auto import tqdm, trange\n",
    "from peft import PeftModel, PeftConfig\n",
    "from glob import glob \n",
    "from collections import defaultdict, Counter\n",
    "from os.path import basename\n",
    "\n",
    "\n",
    "import warnings\n",
    "from sklearn.exceptions import UndefinedMetricWarning\n",
    "warnings.filterwarnings(action='ignore', category=UndefinedMetricWarning)\n",
    "\n",
    "os.environ[\"WANDB_DISABLED\"] = \"true\"\n",
    "os.environ[\"CUDA_DEVICE_ORDER\"]=\"PCI_BUS_ID\"   # replace the 0 with other gpu ids\n",
    "os.environ[\"CUDA_VISIBLE_DEVICES\"]=\"0\"\n",
    "device = \"cuda:0\"\n",
    "torch.cuda.set_device(0)"
   ]
  },
  {
   "cell_type": "code",
   "execution_count": 2,
   "metadata": {},
   "outputs": [],
   "source": [
    "os.environ[\"TOKENIZERS_PARALLELISM\"] = \"false\"\n",
    "\n",
    "model_name_or_path = \"google/flan-t5-xl\"\n",
    "tokenizer_name_or_path = \"google/flan-t5-xl\"\n",
    "best_model_dir = '/shared/2/projects/contextual-appropriateness/models/peft/google/flan-t5-xl/seed-12345//best'\n",
    "\n",
    "text_column = \"text\"\n",
    "label_column = \"answer\"\n",
    "max_length = 192\n",
    "lr = 1e-2\n",
    "num_epochs = 20\n",
    "batch_size = 128"
   ]
  },
  {
   "cell_type": "code",
   "execution_count": 15,
   "metadata": {},
   "outputs": [],
   "source": [
    "only_pride_verbalizaion=  {\n",
    "    'parent': 'a parent to their child',\n",
    "    'child': 'a child to their parent',\n",
    "    'sibling': 'a person to their sibling',\n",
    "    'married': 'a person to their spouse', \n",
    "    'friend': 'a person to their friend',\n",
    "    'enemy': 'a person to their enemy',\n",
    "    'lover':'a person to their lover',\n",
    "    'colleague': 'a person to their colleague',\n",
    "    'doctor': 'a person to a medical professional',\n",
    "    'commercial':'a person to someone in a commercial relationship',\n",
    "    'direct_report': 'a person to their boss',\n",
    "    'boss': 'a boss to their employee',\n",
    "    \"student\":'a student to their teacher',\n",
    "    \"teacher\": 'a teacher to their student',\n",
    "    \"engaged\": 'a person to their fiancee',\n",
    "    \"classmate\": 'a person to their classmate',\n",
    "    \"acquaintance\": 'a person to someone distant',\n",
    "    'church':'a person to someone in their church'\n",
    "}\n",
    "v2r = {v:r for r,v in only_pride_verbalizaion.items()}"
   ]
  },
  {
   "cell_type": "code",
   "execution_count": 16,
   "metadata": {},
   "outputs": [],
   "source": [
    "def generate_text(row):\n",
    "    desc = row['relationship']\n",
    "    text = 'Rate whether it is inappropriate for this message to be said in the following social setting?\\nsetting: from %s\\nmessage: %s\\nanswer (yes or no):' % (desc, row['quote'])\n",
    "    return text"
   ]
  },
  {
   "cell_type": "code",
   "execution_count": 17,
   "metadata": {},
   "outputs": [
    {
     "data": {
      "text/html": [
       "<div>\n",
       "<style scoped>\n",
       "    .dataframe tbody tr th:only-of-type {\n",
       "        vertical-align: middle;\n",
       "    }\n",
       "\n",
       "    .dataframe tbody tr th {\n",
       "        vertical-align: top;\n",
       "    }\n",
       "\n",
       "    .dataframe thead th {\n",
       "        text-align: right;\n",
       "    }\n",
       "</style>\n",
       "<table border=\"1\" class=\"dataframe\">\n",
       "  <thead>\n",
       "    <tr style=\"text-align: right;\">\n",
       "      <th></th>\n",
       "      <th>quote</th>\n",
       "      <th>relationship</th>\n",
       "      <th>inst_id</th>\n",
       "      <th>length</th>\n",
       "      <th>text</th>\n",
       "      <th>answer</th>\n",
       "      <th>verbalization</th>\n",
       "    </tr>\n",
       "  </thead>\n",
       "  <tbody>\n",
       "    <tr>\n",
       "      <th>0</th>\n",
       "      <td>Sir , that is true .</td>\n",
       "      <td>enemy</td>\n",
       "      <td>0</td>\n",
       "      <td>4</td>\n",
       "      <td>Rate whether it is inappropriate for this mess...</td>\n",
       "      <td>yes</td>\n",
       "      <td>a person to their enemy</td>\n",
       "    </tr>\n",
       "    <tr>\n",
       "      <th>1</th>\n",
       "      <td>Yes , sir .</td>\n",
       "      <td>enemy</td>\n",
       "      <td>1</td>\n",
       "      <td>2</td>\n",
       "      <td>Rate whether it is inappropriate for this mess...</td>\n",
       "      <td>yes</td>\n",
       "      <td>a person to their enemy</td>\n",
       "    </tr>\n",
       "    <tr>\n",
       "      <th>2</th>\n",
       "      <td>Well , I am sure we are all glad to see you ca...</td>\n",
       "      <td>enemy</td>\n",
       "      <td>2</td>\n",
       "      <td>16</td>\n",
       "      <td>Rate whether it is inappropriate for this mess...</td>\n",
       "      <td>yes</td>\n",
       "      <td>a person to their enemy</td>\n",
       "    </tr>\n",
       "    <tr>\n",
       "      <th>3</th>\n",
       "      <td>And what is the state of your memory now ?</td>\n",
       "      <td>enemy</td>\n",
       "      <td>4</td>\n",
       "      <td>9</td>\n",
       "      <td>Rate whether it is inappropriate for this mess...</td>\n",
       "      <td>yes</td>\n",
       "      <td>a person to their enemy</td>\n",
       "    </tr>\n",
       "    <tr>\n",
       "      <th>4</th>\n",
       "      <td>I am sorry , what was the question ?</td>\n",
       "      <td>enemy</td>\n",
       "      <td>5</td>\n",
       "      <td>7</td>\n",
       "      <td>Rate whether it is inappropriate for this mess...</td>\n",
       "      <td>yes</td>\n",
       "      <td>a person to their enemy</td>\n",
       "    </tr>\n",
       "  </tbody>\n",
       "</table>\n",
       "</div>"
      ],
      "text/plain": [
       "                                               quote relationship  inst_id   \n",
       "0                               Sir , that is true .        enemy        0  \\\n",
       "1                                        Yes , sir .        enemy        1   \n",
       "2  Well , I am sure we are all glad to see you ca...        enemy        2   \n",
       "3         And what is the state of your memory now ?        enemy        4   \n",
       "4               I am sorry , what was the question ?        enemy        5   \n",
       "\n",
       "   length                                               text answer   \n",
       "0       4  Rate whether it is inappropriate for this mess...    yes  \\\n",
       "1       2  Rate whether it is inappropriate for this mess...    yes   \n",
       "2      16  Rate whether it is inappropriate for this mess...    yes   \n",
       "3       9  Rate whether it is inappropriate for this mess...    yes   \n",
       "4       7  Rate whether it is inappropriate for this mess...    yes   \n",
       "\n",
       "             verbalization  \n",
       "0  a person to their enemy  \n",
       "1  a person to their enemy  \n",
       "2  a person to their enemy  \n",
       "3  a person to their enemy  \n",
       "4  a person to their enemy  "
      ]
     },
     "execution_count": 17,
     "metadata": {},
     "output_type": "execute_result"
    }
   ],
   "source": [
    "PRIDE_PATH = '/shared/2/projects/contextual-appropriateness/data/PRIDE/data/'\n",
    "pride_df = pd.read_csv(PRIDE_PATH + '/cleaned_pride_data.csv')\n",
    "\n",
    "pride_df['verbalization'] = pride_df.relationship\n",
    "pride_df['relationship'] = pride_df.verbalization.map(v2r)\n",
    "\n",
    "pride_df.head()"
   ]
  },
  {
   "cell_type": "code",
   "execution_count": null,
   "metadata": {},
   "outputs": [],
   "source": []
  },
  {
   "cell_type": "code",
   "execution_count": null,
   "metadata": {},
   "outputs": [],
   "source": []
  },
  {
   "cell_type": "code",
   "execution_count": null,
   "metadata": {},
   "outputs": [],
   "source": []
  },
  {
   "cell_type": "code",
   "execution_count": 3,
   "metadata": {},
   "outputs": [],
   "source": [
    "tokenizer = AutoTokenizer.from_pretrained(model_name_or_path)\n",
    "\n",
    "def preprocess_function(examples):\n",
    "    inputs = examples[text_column]\n",
    "    targets = examples[label_column]\n",
    "    model_inputs = tokenizer(inputs, max_length=max_length, padding=\"max_length\", truncation=True, return_tensors=\"pt\")\n",
    "    labels = tokenizer(targets, max_length=2, padding=\"max_length\", truncation=True, return_tensors=\"pt\")\n",
    "    labels = labels[\"input_ids\"]\n",
    "    labels[labels == tokenizer.pad_token_id] = -100\n",
    "    model_inputs[\"labels\"] = labels\n",
    "    return model_inputs"
   ]
  },
  {
   "cell_type": "code",
   "execution_count": null,
   "metadata": {},
   "outputs": [],
   "source": []
  },
  {
   "cell_type": "markdown",
   "metadata": {},
   "source": [
    "# Generate Dataframe for all the PRIDE relationships"
   ]
  },
  {
   "cell_type": "code",
   "execution_count": 13,
   "metadata": {},
   "outputs": [
    {
     "data": {
      "text/html": [
       "<pre style=\"white-space:pre;overflow-x:auto;line-height:normal;font-family:Menlo,'DejaVu Sans Mono',consolas,'Courier New',monospace\"><span style=\"color: #800000; text-decoration-color: #800000\">╭──────────────────────────── </span><span style=\"color: #800000; text-decoration-color: #800000; font-weight: bold\">Traceback </span><span style=\"color: #bf7f7f; text-decoration-color: #bf7f7f; font-weight: bold\">(most recent call last)</span><span style=\"color: #800000; text-decoration-color: #800000\"> ────────────────────────────╮</span>\n",
       "<span style=\"color: #800000; text-decoration-color: #800000\">│</span> <span style=\"color: #808000; text-decoration-color: #808000\">&lt;ipython-input-13-22f3538e63e7&gt;</span>:<span style=\"color: #0000ff; text-decoration-color: #0000ff\">1</span> in <span style=\"color: #00ff00; text-decoration-color: #00ff00\">&lt;module&gt;</span>                                             <span style=\"color: #800000; text-decoration-color: #800000\">│</span>\n",
       "<span style=\"color: #800000; text-decoration-color: #800000\">╰───────────────────────────────────────────────────────────────────────────────────────────╯</span>\n",
       "<span style=\"color: #ff0000; text-decoration-color: #ff0000; font-weight: bold\">NameError: </span>name <span style=\"color: #008000; text-decoration-color: #008000\">'pride_df'</span> is not defined\n",
       "</pre>\n"
      ],
      "text/plain": [
       "\u001b[31m╭─\u001b[0m\u001b[31m─────────────────────────── \u001b[0m\u001b[1;31mTraceback \u001b[0m\u001b[1;2;31m(most recent call last)\u001b[0m\u001b[31m ───────────────────────────\u001b[0m\u001b[31m─╮\u001b[0m\n",
       "\u001b[31m│\u001b[0m \u001b[33m<ipython-input-13-22f3538e63e7>\u001b[0m:\u001b[94m1\u001b[0m in \u001b[92m<module>\u001b[0m                                             \u001b[31m│\u001b[0m\n",
       "\u001b[31m╰───────────────────────────────────────────────────────────────────────────────────────────╯\u001b[0m\n",
       "\u001b[1;91mNameError: \u001b[0mname \u001b[32m'pride_df'\u001b[0m is not defined\n"
      ]
     },
     "metadata": {},
     "output_type": "display_data"
    }
   ],
   "source": [
    "rels = list(set(pride_df.relationship))"
   ]
  },
  {
   "cell_type": "code",
   "execution_count": 13,
   "metadata": {},
   "outputs": [],
   "source": [
    "def verbalize(desc, quote):\n",
    "    text = 'Rate whether it is inappropriate for this message to be said in the following social setting?\\nsetting: from %s\\nmessage: %s\\nanswer (yes or no):' % (desc, quote)\n",
    "    return text"
   ]
  },
  {
   "cell_type": "code",
   "execution_count": 15,
   "metadata": {},
   "outputs": [
    {
     "data": {
      "text/html": [
       "<div>\n",
       "<style scoped>\n",
       "    .dataframe tbody tr th:only-of-type {\n",
       "        vertical-align: middle;\n",
       "    }\n",
       "\n",
       "    .dataframe tbody tr th {\n",
       "        vertical-align: top;\n",
       "    }\n",
       "\n",
       "    .dataframe thead th {\n",
       "        text-align: right;\n",
       "    }\n",
       "</style>\n",
       "<table border=\"1\" class=\"dataframe\">\n",
       "  <thead>\n",
       "    <tr style=\"text-align: right;\">\n",
       "      <th></th>\n",
       "      <th>pride_id</th>\n",
       "      <th>text</th>\n",
       "      <th>relationship</th>\n",
       "      <th>answer</th>\n",
       "    </tr>\n",
       "  </thead>\n",
       "  <tbody>\n",
       "    <tr>\n",
       "      <th>0</th>\n",
       "      <td>0</td>\n",
       "      <td>Rate whether it is inappropriate for this mess...</td>\n",
       "      <td>boss</td>\n",
       "      <td>yes</td>\n",
       "    </tr>\n",
       "    <tr>\n",
       "      <th>1</th>\n",
       "      <td>0</td>\n",
       "      <td>Rate whether it is inappropriate for this mess...</td>\n",
       "      <td>married</td>\n",
       "      <td>yes</td>\n",
       "    </tr>\n",
       "    <tr>\n",
       "      <th>2</th>\n",
       "      <td>0</td>\n",
       "      <td>Rate whether it is inappropriate for this mess...</td>\n",
       "      <td>church</td>\n",
       "      <td>yes</td>\n",
       "    </tr>\n",
       "    <tr>\n",
       "      <th>3</th>\n",
       "      <td>0</td>\n",
       "      <td>Rate whether it is inappropriate for this mess...</td>\n",
       "      <td>child</td>\n",
       "      <td>yes</td>\n",
       "    </tr>\n",
       "    <tr>\n",
       "      <th>4</th>\n",
       "      <td>0</td>\n",
       "      <td>Rate whether it is inappropriate for this mess...</td>\n",
       "      <td>doctor</td>\n",
       "      <td>yes</td>\n",
       "    </tr>\n",
       "  </tbody>\n",
       "</table>\n",
       "</div>"
      ],
      "text/plain": [
       "   pride_id                                               text relationship   \n",
       "0         0  Rate whether it is inappropriate for this mess...         boss  \\\n",
       "1         0  Rate whether it is inappropriate for this mess...      married   \n",
       "2         0  Rate whether it is inappropriate for this mess...       church   \n",
       "3         0  Rate whether it is inappropriate for this mess...        child   \n",
       "4         0  Rate whether it is inappropriate for this mess...       doctor   \n",
       "\n",
       "  answer  \n",
       "0    yes  \n",
       "1    yes  \n",
       "2    yes  \n",
       "3    yes  \n",
       "4    yes  "
      ]
     },
     "execution_count": 15,
     "metadata": {},
     "output_type": "execute_result"
    }
   ],
   "source": [
    "all_rel_pride_df = defaultdict(list)\n",
    "for row in pride_df.itertuples():\n",
    "    quote = row.quote\n",
    "    for rel in rels:\n",
    "        all_rel_pride_df['pride_id'].append(row.inst_id)\n",
    "        desc = only_pride_verbalizaion[rel]\n",
    "        \n",
    "        all_rel_pride_df['text'].append(verbalize(desc, quote))\n",
    "        all_rel_pride_df['relationship'].append(rel)\n",
    "        \n",
    "all_rel_pride_df = pd.DataFrame(all_rel_pride_df)\n",
    "all_rel_pride_df['answer'] = 'yes'\n",
    "all_rel_pride_df.head()"
   ]
  },
  {
   "cell_type": "code",
   "execution_count": 16,
   "metadata": {},
   "outputs": [
    {
     "data": {
      "text/plain": [
       "860418"
      ]
     },
     "execution_count": 16,
     "metadata": {},
     "output_type": "execute_result"
    }
   ],
   "source": [
    "len(all_rel_pride_df)"
   ]
  },
  {
   "cell_type": "code",
   "execution_count": 17,
   "metadata": {},
   "outputs": [],
   "source": [
    "peft_outdir = '/shared/2/projects/contextual-appropriateness/results/peft/'\n",
    "all_rel_pride_df.to_csv(peft_outdir + 'all_rel_PRIDE.pride-rels.csv', index=False)"
   ]
  },
  {
   "cell_type": "code",
   "execution_count": 4,
   "metadata": {},
   "outputs": [],
   "source": [
    "peft_outdir = '/shared/2/projects/contextual-appropriateness/results/peft/'\n",
    "all_rel_pride_df = pd.read_csv(peft_outdir + 'all_rel_PRIDE.pride-rels.csv')"
   ]
  },
  {
   "cell_type": "code",
   "execution_count": 6,
   "metadata": {},
   "outputs": [],
   "source": [
    "all_rel_pride_ds = Dataset.from_pandas(all_rel_pride_df)\n",
    "all_rel_pride_dd = DatasetDict()\n",
    "all_rel_pride_dd['eval'] = all_rel_pride_ds"
   ]
  },
  {
   "cell_type": "code",
   "execution_count": 7,
   "metadata": {},
   "outputs": [
    {
     "data": {
      "application/vnd.jupyter.widget-view+json": {
       "model_id": "",
       "version_major": 2,
       "version_minor": 0
      },
      "text/plain": [
       "Running tokenizer on dataset (num_proc=8):   0%|          | 0/430209 [00:00<?, ? examples/s]"
      ]
     },
     "metadata": {},
     "output_type": "display_data"
    }
   ],
   "source": [
    "processed_all_rel_pride = all_rel_pride_dd.map(\n",
    "    preprocess_function,\n",
    "    batched=True,\n",
    "    num_proc=8,\n",
    "    remove_columns=all_rel_pride_dd[\"eval\"].column_names,\n",
    "    load_from_cache_file=False,\n",
    "    desc=\"Running tokenizer on dataset\",\n",
    ")"
   ]
  },
  {
   "cell_type": "code",
   "execution_count": 8,
   "metadata": {},
   "outputs": [
    {
     "data": {
      "application/vnd.jupyter.widget-view+json": {
       "model_id": "a8447ce7362f4a5fa41ea20e485c465d",
       "version_major": 2,
       "version_minor": 0
      },
      "text/plain": [
       "Loading checkpoint shards:   0%|          | 0/2 [00:00<?, ?it/s]"
      ]
     },
     "metadata": {},
     "output_type": "display_data"
    },
    {
     "name": "stdout",
     "output_type": "stream",
     "text": [
      "model loaded\n"
     ]
    }
   ],
   "source": [
    "config = PeftConfig.from_pretrained(best_model_dir)\n",
    "model = AutoModelForSeq2SeqLM.from_pretrained(config.base_model_name_or_path)\n",
    "model = PeftModel.from_pretrained(model, best_model_dir)\n",
    "model.to(device)\n",
    "model.eval()\n",
    "print('model loaded')"
   ]
  },
  {
   "cell_type": "code",
   "execution_count": 9,
   "metadata": {},
   "outputs": [
    {
     "data": {
      "application/vnd.jupyter.widget-view+json": {
       "model_id": "69e6d476c69b4c2299b03d38cb386402",
       "version_major": 2,
       "version_minor": 0
      },
      "text/plain": [
       "  0%|          | 0/2794 [00:00<?, ?it/s]"
      ]
     },
     "metadata": {},
     "output_type": "display_data"
    },
    {
     "name": "stderr",
     "output_type": "stream",
     "text": [
      "IOPub message rate exceeded.\n",
      "The notebook server will temporarily stop sending output\n",
      "to the client in order to avoid crashing it.\n",
      "To change this limit, set the config variable\n",
      "`--NotebookApp.iopub_msg_rate_limit`.\n",
      "\n",
      "Current values:\n",
      "NotebookApp.iopub_msg_rate_limit=1000.0 (msgs/sec)\n",
      "NotebookApp.rate_limit_window=3.0 (secs)\n",
      "\n"
     ]
    }
   ],
   "source": [
    "all_rel_pride_dataloader = DataLoader(\n",
    "    processed_all_rel_pride['eval'], shuffle=False, collate_fn=default_data_collator, \n",
    "    batch_size=154, pin_memory=True\n",
    ")\n",
    "\n",
    "all_rel_pride_preds = []\n",
    "for step, batch in enumerate(tqdm(all_rel_pride_dataloader)):\n",
    "    batch = {k: v.to(device) for k, v in batch.items()}\n",
    "    with torch.no_grad():\n",
    "        outputs = model(**batch)\n",
    "    all_rel_pride_preds.extend(\n",
    "        tokenizer.batch_decode(torch.argmax(outputs.logits, -1).detach().cpu().numpy(), \n",
    "                               skip_special_tokens=True)\n",
    "    )"
   ]
  },
  {
   "cell_type": "code",
   "execution_count": null,
   "metadata": {},
   "outputs": [],
   "source": [
    "all_rel_pride_bin_preds = [1 if p == 'yes' else 0 for p in all_rel_pride_preds]"
   ]
  },
  {
   "cell_type": "code",
   "execution_count": 10,
   "metadata": {},
   "outputs": [
    {
     "name": "stderr",
     "output_type": "stream",
     "text": [
      "<ipython-input-10-c8c35db05079>:1: SettingWithCopyWarning: \n",
      "A value is trying to be set on a copy of a slice from a DataFrame.\n",
      "Try using .loc[row_indexer,col_indexer] = value instead\n",
      "\n",
      "See the caveats in the documentation: https://pandas.pydata.org/pandas-docs/stable/user_guide/indexing.html#returning-a-view-versus-a-copy\n",
      "  part1['prediction'] = all_rel_pride_preds\n"
     ]
    }
   ],
   "source": [
    "all_rel_pride_df['prediction'] = all_rel_pride_preds"
   ]
  },
  {
   "cell_type": "code",
   "execution_count": 11,
   "metadata": {},
   "outputs": [
    {
     "data": {
      "text/plain": [
       "Counter({'yes': 205866, 'no': 224343})"
      ]
     },
     "execution_count": 11,
     "metadata": {},
     "output_type": "execute_result"
    }
   ],
   "source": [
    "Counter(all_rel_pride_preds)"
   ]
  },
  {
   "cell_type": "code",
   "execution_count": 12,
   "metadata": {},
   "outputs": [
    {
     "data": {
      "text/html": [
       "<div>\n",
       "<style scoped>\n",
       "    .dataframe tbody tr th:only-of-type {\n",
       "        vertical-align: middle;\n",
       "    }\n",
       "\n",
       "    .dataframe tbody tr th {\n",
       "        vertical-align: top;\n",
       "    }\n",
       "\n",
       "    .dataframe thead th {\n",
       "        text-align: right;\n",
       "    }\n",
       "</style>\n",
       "<table border=\"1\" class=\"dataframe\">\n",
       "  <thead>\n",
       "    <tr style=\"text-align: right;\">\n",
       "      <th></th>\n",
       "      <th>pride_id</th>\n",
       "      <th>text</th>\n",
       "      <th>relationship</th>\n",
       "      <th>answer</th>\n",
       "      <th>prediction</th>\n",
       "    </tr>\n",
       "  </thead>\n",
       "  <tbody>\n",
       "    <tr>\n",
       "      <th>0</th>\n",
       "      <td>0</td>\n",
       "      <td>Rate whether it is inappropriate for this mess...</td>\n",
       "      <td>boss</td>\n",
       "      <td>yes</td>\n",
       "      <td>yes</td>\n",
       "    </tr>\n",
       "    <tr>\n",
       "      <th>1</th>\n",
       "      <td>0</td>\n",
       "      <td>Rate whether it is inappropriate for this mess...</td>\n",
       "      <td>married</td>\n",
       "      <td>yes</td>\n",
       "      <td>yes</td>\n",
       "    </tr>\n",
       "    <tr>\n",
       "      <th>2</th>\n",
       "      <td>0</td>\n",
       "      <td>Rate whether it is inappropriate for this mess...</td>\n",
       "      <td>church</td>\n",
       "      <td>yes</td>\n",
       "      <td>yes</td>\n",
       "    </tr>\n",
       "    <tr>\n",
       "      <th>3</th>\n",
       "      <td>0</td>\n",
       "      <td>Rate whether it is inappropriate for this mess...</td>\n",
       "      <td>child</td>\n",
       "      <td>yes</td>\n",
       "      <td>yes</td>\n",
       "    </tr>\n",
       "    <tr>\n",
       "      <th>4</th>\n",
       "      <td>0</td>\n",
       "      <td>Rate whether it is inappropriate for this mess...</td>\n",
       "      <td>doctor</td>\n",
       "      <td>yes</td>\n",
       "      <td>yes</td>\n",
       "    </tr>\n",
       "  </tbody>\n",
       "</table>\n",
       "</div>"
      ],
      "text/plain": [
       "   pride_id                                               text relationship   \n",
       "0         0  Rate whether it is inappropriate for this mess...         boss  \\\n",
       "1         0  Rate whether it is inappropriate for this mess...      married   \n",
       "2         0  Rate whether it is inappropriate for this mess...       church   \n",
       "3         0  Rate whether it is inappropriate for this mess...        child   \n",
       "4         0  Rate whether it is inappropriate for this mess...       doctor   \n",
       "\n",
       "  answer prediction  \n",
       "0    yes        yes  \n",
       "1    yes        yes  \n",
       "2    yes        yes  \n",
       "3    yes        yes  \n",
       "4    yes        yes  "
      ]
     },
     "execution_count": 12,
     "metadata": {},
     "output_type": "execute_result"
    }
   ],
   "source": [
    "all_rel_pride_df.head()"
   ]
  },
  {
   "cell_type": "code",
   "execution_count": 13,
   "metadata": {},
   "outputs": [],
   "source": [
    "peft_outdir = '/shared/2/projects/contextual-appropriateness/results/peft/'\n",
    "part1.to_csv(peft_outdir + 'all_rel_PRIDE.pride-rels.labeled.csv', index=False)"
   ]
  },
  {
   "cell_type": "code",
   "execution_count": 36,
   "metadata": {},
   "outputs": [
    {
     "data": {
      "text/plain": [
       "Counter({'patient': 23901,\n",
       "         'neighbor': 23901,\n",
       "         'domestic_partner': 23901,\n",
       "         'sibling': 23901,\n",
       "         'boss': 23901,\n",
       "         'employee_in_large_company': 23901,\n",
       "         'married': 23901,\n",
       "         'teacher': 23901,\n",
       "         'law_enforcement': 23901,\n",
       "         'client': 23901,\n",
       "         'acquaintance': 23901,\n",
       "         'engaged': 23901,\n",
       "         'dating': 23901,\n",
       "         'adopted_child': 23901,\n",
       "         'enemy': 23901,\n",
       "         'classmate': 23901,\n",
       "         'old_friend': 23901,\n",
       "         'club_member': 23901,\n",
       "         'mentor': 23901,\n",
       "         'colleague': 23901,\n",
       "         'uncle_aunt': 23901,\n",
       "         'rival': 23901,\n",
       "         'person_with_authority': 23901,\n",
       "         'direct_report': 23901,\n",
       "         'complete_stranger': 23901,\n",
       "         'child': 23900,\n",
       "         'landlord': 23900,\n",
       "         'competitor': 23900,\n",
       "         'grandchild': 23900,\n",
       "         'childhood_friend': 23900,\n",
       "         'best_friend': 23900,\n",
       "         'ex_dating': 23900,\n",
       "         'student': 23900,\n",
       "         'parent': 23900,\n",
       "         'grandparent': 23900,\n",
       "         'doctor': 23900,\n",
       "         'sports_teammate': 23900,\n",
       "         'fan': 23900,\n",
       "         'hero': 23900,\n",
       "         'friend': 23900,\n",
       "         'mentee': 23900,\n",
       "         'friends_with_benefits': 23900,\n",
       "         'cousins': 23900,\n",
       "         'person_having_an_affair': 23900,\n",
       "         'lawyer': 23900,\n",
       "         'step_sibling': 23900,\n",
       "         'neice_nephew': 23900,\n",
       "         'coworker': 23900,\n",
       "         'divorcee': 23900})"
      ]
     },
     "execution_count": 36,
     "metadata": {},
     "output_type": "execute_result"
    }
   ],
   "source": [
    "Counter(part1.relationship)"
   ]
  },
  {
   "cell_type": "code",
   "execution_count": null,
   "metadata": {},
   "outputs": [],
   "source": []
  }
 ],
 "metadata": {
  "kernelspec": {
   "display_name": "Python 3",
   "language": "python",
   "name": "python3"
  },
  "language_info": {
   "codemirror_mode": {
    "name": "ipython",
    "version": 3
   },
   "file_extension": ".py",
   "mimetype": "text/x-python",
   "name": "python",
   "nbconvert_exporter": "python",
   "pygments_lexer": "ipython3",
   "version": "3.8.5"
  }
 },
 "nbformat": 4,
 "nbformat_minor": 5
}
