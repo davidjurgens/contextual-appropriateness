{
 "cells": [
  {
   "cell_type": "code",
   "execution_count": 138,
   "metadata": {},
   "outputs": [],
   "source": [
    "import os\n",
    "os.environ['LD_LIBRARY_PATH'] = '/usr/lib/x86_64-linux-gnu/'\n",
    "\n",
    "import pandas as pd\n",
    "import datasets\n",
    "from transformers import RobertaTokenizerFast, RobertaForSequenceClassification,Trainer, TrainingArguments\n",
    "import torch.nn as nn\n",
    "import torch\n",
    "from datasets import Dataset, DatasetDict\n",
    "import numpy as np\n",
    "from sklearn.metrics import accuracy_score, recall_score, precision_score, f1_score, precision_recall_fscore_support\n",
    "import wandb\n",
    "import os\n",
    "import evaluate\n",
    "from transformers import AutoTokenizer\n",
    "from transformers import DataCollatorWithPadding\n",
    "from transformers import AutoModelForSequenceClassification, TrainingArguments, Trainer, AutoModelForSeq2SeqLM\n",
    "from sklearn.dummy import DummyClassifier\n",
    "from collections import Counter\n",
    "from transformers import AutoModelForCausalLM, AutoTokenizer, default_data_collator, get_linear_schedule_with_warmup\n",
    "from peft import get_peft_config, get_peft_model, PromptTuningInit, PrefixTuningConfig, PromptTuningConfig, TaskType, PeftType\n",
    "import torch\n",
    "from datasets import load_dataset\n",
    "import os\n",
    "from torch.utils.data import DataLoader\n",
    "from tqdm.auto import tqdm, trange\n",
    "from peft import PeftModel, PeftConfig\n",
    "\n",
    "import warnings\n",
    "from sklearn.exceptions import UndefinedMetricWarning\n",
    "warnings.filterwarnings(action='ignore', category=UndefinedMetricWarning)\n",
    "\n",
    "os.environ[\"WANDB_DISABLED\"] = \"true\"\n",
    "os.environ[\"CUDA_DEVICE_ORDER\"]=\"PCI_BUS_ID\"   # replace the 0 with other gpu ids\n",
    "os.environ[\"CUDA_VISIBLE_DEVICES\"]=\"0\""
   ]
  },
  {
   "cell_type": "code",
   "execution_count": 139,
   "metadata": {},
   "outputs": [],
   "source": [
    "def seed_everything(seed: int):\n",
    "    import random, os\n",
    "    import numpy as np\n",
    "    import torch\n",
    "    \n",
    "    random.seed(seed)\n",
    "    os.environ['PYTHONHASHSEED'] = str(seed)\n",
    "    np.random.seed(seed)\n",
    "    torch.manual_seed(seed)\n",
    "    torch.cuda.manual_seed(seed)\n",
    "    torch.backends.cudnn.deterministic = True\n",
    "    torch.backends.cudnn.benchmark = True\n",
    "    \n",
    "#seed = 1234\n",
    "#seed = 20230501\n",
    "#seed = 120398412\n",
    "seed = 987654321\n",
    "#seed = 42\n",
    "    \n",
    "seed_everything(seed)"
   ]
  },
  {
   "cell_type": "code",
   "execution_count": 140,
   "metadata": {},
   "outputs": [],
   "source": [
    "os.environ[\"TOKENIZERS_PARALLELISM\"] = \"false\"\n",
    "\n",
    "device = \"cuda:0\"\n",
    "model_name_or_path = \"google/flan-t5-xl\"\n",
    "tokenizer_name_or_path = \"google/flan-t5-xl\"\n",
    "\n",
    "text_column = \"text\"\n",
    "label_column = \"answer\"\n",
    "max_length = 192\n",
    "lr = 1e-2\n",
    "num_epochs = 20\n",
    "batch_size = 32"
   ]
  },
  {
   "cell_type": "code",
   "execution_count": 141,
   "metadata": {},
   "outputs": [],
   "source": [
    "datadir = '/shared/2/projects/contextual-appropriateness/data/final-annotated-data-cleaned/'\n",
    "train_df = pd.read_csv(datadir + 'train.csv')\n",
    "dev_df = pd.read_csv(datadir + 'dev.csv')\n",
    "test_df = pd.read_csv(datadir + 'test.csv')"
   ]
  },
  {
   "cell_type": "code",
   "execution_count": 142,
   "metadata": {},
   "outputs": [
    {
     "data": {
      "text/plain": [
       "96"
      ]
     },
     "execution_count": 142,
     "metadata": {},
     "output_type": "execute_result"
    }
   ],
   "source": [
    "len(set(test_df.quote))"
   ]
  },
  {
   "cell_type": "code",
   "execution_count": 143,
   "metadata": {},
   "outputs": [
    {
     "data": {
      "text/plain": [
       "9107"
      ]
     },
     "execution_count": 143,
     "metadata": {},
     "output_type": "execute_result"
    }
   ],
   "source": [
    "len(train_df)"
   ]
  },
  {
   "cell_type": "code",
   "execution_count": 144,
   "metadata": {},
   "outputs": [
    {
     "data": {
      "text/html": [
       "<div>\n",
       "<style scoped>\n",
       "    .dataframe tbody tr th:only-of-type {\n",
       "        vertical-align: middle;\n",
       "    }\n",
       "\n",
       "    .dataframe tbody tr th {\n",
       "        vertical-align: top;\n",
       "    }\n",
       "\n",
       "    .dataframe thead th {\n",
       "        text-align: right;\n",
       "    }\n",
       "</style>\n",
       "<table border=\"1\" class=\"dataframe\">\n",
       "  <thead>\n",
       "    <tr style=\"text-align: right;\">\n",
       "      <th></th>\n",
       "      <th>id</th>\n",
       "      <th>relationship</th>\n",
       "      <th>is_appropriate</th>\n",
       "      <th>label</th>\n",
       "      <th>quote</th>\n",
       "      <th>origin</th>\n",
       "    </tr>\n",
       "  </thead>\n",
       "  <tbody>\n",
       "    <tr>\n",
       "      <th>0</th>\n",
       "      <td>594</td>\n",
       "      <td>ex_dating</td>\n",
       "      <td>Yes</td>\n",
       "      <td>0</td>\n",
       "      <td>She thought it was funny... but the animals sh...</td>\n",
       "      <td>Adjudication</td>\n",
       "    </tr>\n",
       "    <tr>\n",
       "      <th>1</th>\n",
       "      <td>594</td>\n",
       "      <td>colleague</td>\n",
       "      <td>No</td>\n",
       "      <td>1</td>\n",
       "      <td>She thought it was funny... but the animals sh...</td>\n",
       "      <td>Adjudication</td>\n",
       "    </tr>\n",
       "    <tr>\n",
       "      <th>2</th>\n",
       "      <td>594</td>\n",
       "      <td>engaged</td>\n",
       "      <td>Yes</td>\n",
       "      <td>0</td>\n",
       "      <td>She thought it was funny... but the animals sh...</td>\n",
       "      <td>Adjudication</td>\n",
       "    </tr>\n",
       "    <tr>\n",
       "      <th>3</th>\n",
       "      <td>594</td>\n",
       "      <td>best_friend</td>\n",
       "      <td>Yes</td>\n",
       "      <td>0</td>\n",
       "      <td>She thought it was funny... but the animals sh...</td>\n",
       "      <td>Adjudication</td>\n",
       "    </tr>\n",
       "    <tr>\n",
       "      <th>4</th>\n",
       "      <td>594</td>\n",
       "      <td>neighbor</td>\n",
       "      <td>No</td>\n",
       "      <td>1</td>\n",
       "      <td>She thought it was funny... but the animals sh...</td>\n",
       "      <td>Adjudication</td>\n",
       "    </tr>\n",
       "  </tbody>\n",
       "</table>\n",
       "</div>"
      ],
      "text/plain": [
       "    id relationship is_appropriate  label   \n",
       "0  594    ex_dating            Yes      0  \\\n",
       "1  594    colleague             No      1   \n",
       "2  594      engaged            Yes      0   \n",
       "3  594  best_friend            Yes      0   \n",
       "4  594     neighbor             No      1   \n",
       "\n",
       "                                               quote        origin  \n",
       "0  She thought it was funny... but the animals sh...  Adjudication  \n",
       "1  She thought it was funny... but the animals sh...  Adjudication  \n",
       "2  She thought it was funny... but the animals sh...  Adjudication  \n",
       "3  She thought it was funny... but the animals sh...  Adjudication  \n",
       "4  She thought it was funny... but the animals sh...  Adjudication  "
      ]
     },
     "execution_count": 144,
     "metadata": {},
     "output_type": "execute_result"
    }
   ],
   "source": [
    "train_df.head()"
   ]
  },
  {
   "cell_type": "code",
   "execution_count": 145,
   "metadata": {},
   "outputs": [],
   "source": [
    "#train_df = train_df.tail(4000)"
   ]
  },
  {
   "cell_type": "code",
   "execution_count": 146,
   "metadata": {},
   "outputs": [],
   "source": [
    "relationship_to_verbalization = {\n",
    "    \"friend\": \"a person to their friend\",\n",
    "    \"parent\":\"a parent to their child\",\n",
    "    \"child\":\"a child to their parent\",\n",
    "    \"sibling\":\"a person to their sibling\",\n",
    "    \"best friend\":\"a person to their best friend\",\n",
    "    \"best_friend\":\"a person to their best friend\",\n",
    "    \"neighbor\":\"a person to their neighbor\",\n",
    "    \"coworker\":\"a person to their coworker\",\n",
    "    \"boss\":\"a boss to their employee\",\n",
    "    \"direct report (employee)\":\"a person to their boss\",\n",
    "    \"direct_report\":\"a person to their boss\",    \n",
    "    \"student\":\"a student to their teacher\",\n",
    "    \"teacher\":\"a teacher to their student\",\n",
    "    \"cousins\":\"a person to their cousin\",\n",
    "    \"granparent\":\"a person to their grandchild\",\n",
    "    \"grandparent\":\"a person to their grandchild\",\n",
    "    \"grandchild\":\"a person to their grandparent\",    \n",
    "    \"uncle/aunt\":\"an uncle/aunt to their niece or nephew\",\n",
    "    \"uncle_aunt\":\"an uncle or aunt to their niece or nephew\",    \n",
    "    \"neice_nephew\":\"a niece or nephew to their uncle or aunt\",        \n",
    "    \"employee_in_large_company\":\"an employee in large company to another\",\n",
    "    \"married\":\"a person to their spouse\",\n",
    "    \"dating\":\"a person to the person they are dating\",\n",
    "    \"engaged\":\"a person to their fiancee\",\n",
    "    \"friends_with_benefits\":\"a person to their friend with benefits\",\n",
    "    \"divorcee\":\"a person to their ex-spouse\",\n",
    "    \"ex-girlfriend/ex-boyfriend\":\"a person to their ex-girlfriend or ex-boyfriend\",\n",
    "    \"ex_dating\":\"a person to their ex-girlfriend or ex-boyfriend\",    \n",
    "    \"step-sibling\":\"a person to their step-sibling\",\n",
    "    \"step_sibling\":\"a person to their step-sibling\",    \n",
    "    \"fan\":\"a fan to their hero\",\n",
    "    \"hero\":\"a hero to their fan\",\n",
    "    \"enemy\":\"a person to their enemy\",\n",
    "    \"rival\":\"a person to their rival\",\n",
    "    \"competitor\":\"a person to their competitor\",\n",
    "    \"complete_stranger\":\"a person to a complete stranger\",\n",
    "    \"acquaintance\":\"a person to an acquaintance\",\n",
    "    \"person_with_authority\":\"a person with authority to a subordinate\",\n",
    "    \"law_enforcement\":\"a member of law enforcement to a community member\",\n",
    "    \"classmate\":\"a person to their classmate\",\n",
    "    \"sports_teammate\":\"a person to their sports teammate\",\n",
    "    \"club_member\":\"a person to a member of their club\",\n",
    "    \"adopted_child\":\"an adopted child to their parent\",\n",
    "    \"adopted child\":\"an adopted child to their parent\",\n",
    "    \"domestic_partner\":\"a person to their domestic partner\",\n",
    "    \"person_having_an_affair\":\"a person having an affair to their partner\",\n",
    "    \"mentor\":\"a mentor to their mentee\",\n",
    "    \"mentee\":\"a mentee to their mentor\",\n",
    "    \"landlord\":\"a landlord to their tenant\",\n",
    "    \"colleague\":\"a person to their colleague\",\n",
    "    \"childhood_friend\":\"a person to their childhood friend\",\n",
    "    \"old_friend\":\"a person to an old friend\",\n",
    "    \"client\":\"a client to their lawyer\",\n",
    "    \"lawyer\":\"a lawyer to their client\",\n",
    "    \"patient\":\"a patient to their doctor\",\n",
    "    \"doctor\":\"a doctor to their patient\",   \n",
    "}"
   ]
  },
  {
   "cell_type": "code",
   "execution_count": 147,
   "metadata": {},
   "outputs": [],
   "source": [
    "def generate_text(row):\n",
    "    rel = row['relationship']\n",
    "    if rel in relationship_to_verbalization:\n",
    "        desc = relationship_to_verbalization[rel]\n",
    "    else:\n",
    "        desc = relationship_to_verbalization[rel.replace(' ', '_')]\n",
    "    text = 'Rate whether it is inappropriate for this message to be said in the following social setting?\\nsetting: from %s\\nmessage: %s\\nanswer (yes or no):' % (desc, row['quote'])\n",
    "    return text"
   ]
  },
  {
   "cell_type": "code",
   "execution_count": 148,
   "metadata": {},
   "outputs": [],
   "source": [
    "#set(train_df.relationship)"
   ]
  },
  {
   "cell_type": "code",
   "execution_count": 149,
   "metadata": {},
   "outputs": [
    {
     "data": {
      "text/html": [
       "<div>\n",
       "<style scoped>\n",
       "    .dataframe tbody tr th:only-of-type {\n",
       "        vertical-align: middle;\n",
       "    }\n",
       "\n",
       "    .dataframe tbody tr th {\n",
       "        vertical-align: top;\n",
       "    }\n",
       "\n",
       "    .dataframe thead th {\n",
       "        text-align: right;\n",
       "    }\n",
       "</style>\n",
       "<table border=\"1\" class=\"dataframe\">\n",
       "  <thead>\n",
       "    <tr style=\"text-align: right;\">\n",
       "      <th></th>\n",
       "      <th>id</th>\n",
       "      <th>relationship</th>\n",
       "      <th>is_appropriate</th>\n",
       "      <th>label</th>\n",
       "      <th>quote</th>\n",
       "      <th>origin</th>\n",
       "      <th>text</th>\n",
       "    </tr>\n",
       "  </thead>\n",
       "  <tbody>\n",
       "    <tr>\n",
       "      <th>0</th>\n",
       "      <td>594</td>\n",
       "      <td>ex_dating</td>\n",
       "      <td>Yes</td>\n",
       "      <td>0</td>\n",
       "      <td>She thought it was funny... but the animals sh...</td>\n",
       "      <td>Adjudication</td>\n",
       "      <td>Rate whether it is inappropriate for this mess...</td>\n",
       "    </tr>\n",
       "    <tr>\n",
       "      <th>1</th>\n",
       "      <td>594</td>\n",
       "      <td>colleague</td>\n",
       "      <td>No</td>\n",
       "      <td>1</td>\n",
       "      <td>She thought it was funny... but the animals sh...</td>\n",
       "      <td>Adjudication</td>\n",
       "      <td>Rate whether it is inappropriate for this mess...</td>\n",
       "    </tr>\n",
       "    <tr>\n",
       "      <th>2</th>\n",
       "      <td>594</td>\n",
       "      <td>engaged</td>\n",
       "      <td>Yes</td>\n",
       "      <td>0</td>\n",
       "      <td>She thought it was funny... but the animals sh...</td>\n",
       "      <td>Adjudication</td>\n",
       "      <td>Rate whether it is inappropriate for this mess...</td>\n",
       "    </tr>\n",
       "    <tr>\n",
       "      <th>3</th>\n",
       "      <td>594</td>\n",
       "      <td>best_friend</td>\n",
       "      <td>Yes</td>\n",
       "      <td>0</td>\n",
       "      <td>She thought it was funny... but the animals sh...</td>\n",
       "      <td>Adjudication</td>\n",
       "      <td>Rate whether it is inappropriate for this mess...</td>\n",
       "    </tr>\n",
       "    <tr>\n",
       "      <th>4</th>\n",
       "      <td>594</td>\n",
       "      <td>neighbor</td>\n",
       "      <td>No</td>\n",
       "      <td>1</td>\n",
       "      <td>She thought it was funny... but the animals sh...</td>\n",
       "      <td>Adjudication</td>\n",
       "      <td>Rate whether it is inappropriate for this mess...</td>\n",
       "    </tr>\n",
       "  </tbody>\n",
       "</table>\n",
       "</div>"
      ],
      "text/plain": [
       "    id relationship is_appropriate  label   \n",
       "0  594    ex_dating            Yes      0  \\\n",
       "1  594    colleague             No      1   \n",
       "2  594      engaged            Yes      0   \n",
       "3  594  best_friend            Yes      0   \n",
       "4  594     neighbor             No      1   \n",
       "\n",
       "                                               quote        origin   \n",
       "0  She thought it was funny... but the animals sh...  Adjudication  \\\n",
       "1  She thought it was funny... but the animals sh...  Adjudication   \n",
       "2  She thought it was funny... but the animals sh...  Adjudication   \n",
       "3  She thought it was funny... but the animals sh...  Adjudication   \n",
       "4  She thought it was funny... but the animals sh...  Adjudication   \n",
       "\n",
       "                                                text  \n",
       "0  Rate whether it is inappropriate for this mess...  \n",
       "1  Rate whether it is inappropriate for this mess...  \n",
       "2  Rate whether it is inappropriate for this mess...  \n",
       "3  Rate whether it is inappropriate for this mess...  \n",
       "4  Rate whether it is inappropriate for this mess...  "
      ]
     },
     "execution_count": 149,
     "metadata": {},
     "output_type": "execute_result"
    }
   ],
   "source": [
    "train_df['text'] = train_df.apply(generate_text, axis=1)\n",
    "dev_df['text'] = dev_df.apply(generate_text, axis=1)\n",
    "test_df['text'] = test_df.apply(generate_text, axis=1)\n",
    "train_df.head()"
   ]
  },
  {
   "cell_type": "code",
   "execution_count": 150,
   "metadata": {},
   "outputs": [],
   "source": [
    "train_df['answer'] = train_df.label.apply(lambda x: 'yes' if x == 1 else 'no')\n",
    "dev_df['answer'] = dev_df.label.apply(lambda x: 'yes' if x == 1 else 'no')\n",
    "test_df['answer'] = test_df.label.apply(lambda x: 'yes' if x == 1 else 'no')"
   ]
  },
  {
   "cell_type": "code",
   "execution_count": 151,
   "metadata": {},
   "outputs": [
    {
     "name": "stdout",
     "output_type": "stream",
     "text": [
      "Rate whether it is inappropriate for this message to be said in the following social setting?\n",
      "setting: from a person to their ex-girlfriend or ex-boyfriend\n",
      "message: He needs to get high school diploma too\n",
      "answer (yes or no):\n"
     ]
    }
   ],
   "source": [
    "print(test_df.text.iloc[0])"
   ]
  },
  {
   "cell_type": "code",
   "execution_count": 152,
   "metadata": {},
   "outputs": [
    {
     "data": {
      "text/plain": [
       "DatasetDict({\n",
       "    train: Dataset({\n",
       "        features: ['id', 'relationship', 'is_appropriate', 'label', 'quote', 'origin', 'text', 'answer'],\n",
       "        num_rows: 9107\n",
       "    })\n",
       "    validation: Dataset({\n",
       "        features: ['id', 'relationship', 'is_appropriate', 'label', 'quote', 'origin', 'text', 'answer'],\n",
       "        num_rows: 1100\n",
       "    })\n",
       "    test: Dataset({\n",
       "        features: ['id', 'relationship', 'is_appropriate', 'label', 'quote', 'origin', 'text', 'answer'],\n",
       "        num_rows: 2029\n",
       "    })\n",
       "})"
      ]
     },
     "execution_count": 152,
     "metadata": {},
     "output_type": "execute_result"
    }
   ],
   "source": [
    "tds = Dataset.from_pandas(train_df)\n",
    "vds = Dataset.from_pandas(dev_df)\n",
    "test_ds = Dataset.from_pandas(test_df)\n",
    "\n",
    "ds = DatasetDict()\n",
    "\n",
    "ds['train'] = tds\n",
    "ds['validation'] = vds\n",
    "ds['test'] = test_ds\n",
    "\n",
    "dataset = ds\n",
    "ds"
   ]
  },
  {
   "cell_type": "code",
   "execution_count": 153,
   "metadata": {},
   "outputs": [],
   "source": [
    "torch.cuda.empty_cache()"
   ]
  },
  {
   "cell_type": "code",
   "execution_count": 154,
   "metadata": {},
   "outputs": [],
   "source": [
    "tokenizer = AutoTokenizer.from_pretrained(model_name_or_path)\n",
    "\n",
    "def preprocess_function(examples):\n",
    "    inputs = examples[text_column]\n",
    "    targets = examples[label_column]\n",
    "    model_inputs = tokenizer(inputs, max_length=max_length, padding=\"max_length\", truncation=True, return_tensors=\"pt\")\n",
    "    labels = tokenizer(targets, max_length=2, padding=\"max_length\", truncation=True, return_tensors=\"pt\")\n",
    "    labels = labels[\"input_ids\"]\n",
    "    labels[labels == tokenizer.pad_token_id] = -100\n",
    "    model_inputs[\"labels\"] = labels\n",
    "    return model_inputs"
   ]
  },
  {
   "cell_type": "code",
   "execution_count": 155,
   "metadata": {},
   "outputs": [
    {
     "data": {
      "application/vnd.jupyter.widget-view+json": {
       "model_id": "",
       "version_major": 2,
       "version_minor": 0
      },
      "text/plain": [
       "Running tokenizer on dataset:   0%|          | 0/9107 [00:00<?, ? examples/s]"
      ]
     },
     "metadata": {},
     "output_type": "display_data"
    },
    {
     "data": {
      "application/vnd.jupyter.widget-view+json": {
       "model_id": "",
       "version_major": 2,
       "version_minor": 0
      },
      "text/plain": [
       "Running tokenizer on dataset:   0%|          | 0/1100 [00:00<?, ? examples/s]"
      ]
     },
     "metadata": {},
     "output_type": "display_data"
    },
    {
     "data": {
      "application/vnd.jupyter.widget-view+json": {
       "model_id": "",
       "version_major": 2,
       "version_minor": 0
      },
      "text/plain": [
       "Running tokenizer on dataset:   0%|          | 0/2029 [00:00<?, ? examples/s]"
      ]
     },
     "metadata": {},
     "output_type": "display_data"
    }
   ],
   "source": [
    "processed_datasets = dataset.map(\n",
    "    preprocess_function,\n",
    "    batched=True,\n",
    "    num_proc=1,\n",
    "    remove_columns=dataset[\"train\"].column_names,\n",
    "    load_from_cache_file=False,\n",
    "    desc=\"Running tokenizer on dataset\",\n",
    ")"
   ]
  },
  {
   "cell_type": "code",
   "execution_count": 156,
   "metadata": {},
   "outputs": [],
   "source": [
    "train_dataset = processed_datasets[\"train\"]\n",
    "eval_dataset = processed_datasets[\"validation\"]\n",
    "eval_df = dev_df\n",
    "test_dataset = processed_datasets[\"test\"]\n",
    "\n",
    "\n",
    "train_dataloader = DataLoader(\n",
    "    train_dataset, shuffle=True, collate_fn=default_data_collator, \n",
    "    batch_size=batch_size, pin_memory=True\n",
    ")\n",
    "eval_dataloader = DataLoader(eval_dataset, collate_fn=default_data_collator, \n",
    "                             batch_size=batch_size, pin_memory=True)"
   ]
  },
  {
   "cell_type": "code",
   "execution_count": 157,
   "metadata": {},
   "outputs": [
    {
     "data": {
      "application/vnd.jupyter.widget-view+json": {
       "model_id": "5dfb9abd3c644b2c8e96d9f9cc11e402",
       "version_major": 2,
       "version_minor": 0
      },
      "text/plain": [
       "Loading checkpoint shards:   0%|          | 0/2 [00:00<?, ?it/s]"
      ]
     },
     "metadata": {},
     "output_type": "display_data"
    },
    {
     "name": "stdout",
     "output_type": "stream",
     "text": [
      "trainable params: 1966080 || all params: 2851723264 || trainable%: 0.06894357614638445\n"
     ]
    }
   ],
   "source": [
    "peft_config = PrefixTuningConfig(task_type=TaskType.SEQ_2_SEQ_LM, \n",
    "                                 inference_mode=False, num_virtual_tokens=20)\n",
    "\n",
    "model = AutoModelForSeq2SeqLM.from_pretrained(model_name_or_path)\n",
    "model = get_peft_model(model, peft_config)\n",
    "model.print_trainable_parameters()"
   ]
  },
  {
   "cell_type": "code",
   "execution_count": 158,
   "metadata": {},
   "outputs": [],
   "source": [
    "optimizer = torch.optim.AdamW(model.parameters(), lr=lr)\n",
    "lr_scheduler = get_linear_schedule_with_warmup(\n",
    "    optimizer=optimizer,\n",
    "    num_warmup_steps=0,\n",
    "    num_training_steps=(len(train_dataloader) * num_epochs),\n",
    ")"
   ]
  },
  {
   "cell_type": "code",
   "execution_count": 159,
   "metadata": {},
   "outputs": [
    {
     "data": {
      "application/vnd.jupyter.widget-view+json": {
       "model_id": "145fb28a944341ceb294797829c03501",
       "version_major": 2,
       "version_minor": 0
      },
      "text/plain": [
       "  0%|          | 0/20 [00:00<?, ?it/s]"
      ]
     },
     "metadata": {},
     "output_type": "display_data"
    },
    {
     "data": {
      "application/vnd.jupyter.widget-view+json": {
       "model_id": "b95dff45099a48afbc2eb34809e85964",
       "version_major": 2,
       "version_minor": 0
      },
      "text/plain": [
       "  0%|          | 0/285 [00:00<?, ?it/s]"
      ]
     },
     "metadata": {},
     "output_type": "display_data"
    },
    {
     "data": {
      "application/vnd.jupyter.widget-view+json": {
       "model_id": "b13ded4b3a93423b817d4d6c5f4889cd",
       "version_major": 2,
       "version_minor": 0
      },
      "text/plain": [
       "  0%|          | 0/35 [00:00<?, ?it/s]"
      ]
     },
     "metadata": {},
     "output_type": "display_data"
    },
    {
     "name": "stdout",
     "output_type": "stream",
     "text": [
      "epoch=0: train_ppl=tensor(1.3821, device='cuda:0') train_epoch_loss=tensor(0.3236, device='cuda:0') eval_ppl=tensor(1.3545, device='cuda:0') eval_epoch_loss=tensor(0.3034, device='cuda:0')\n",
      "Precision: 0.637, Recall: 0.539, F1: 0.584\n",
      "saving best model (currently: epoch 0)\n"
     ]
    },
    {
     "data": {
      "application/vnd.jupyter.widget-view+json": {
       "model_id": "047ccc428a3a4f26a5b0521d5890e927",
       "version_major": 2,
       "version_minor": 0
      },
      "text/plain": [
       "  0%|          | 0/285 [00:00<?, ?it/s]"
      ]
     },
     "metadata": {},
     "output_type": "display_data"
    },
    {
     "data": {
      "application/vnd.jupyter.widget-view+json": {
       "model_id": "02e87e1450904e289635adca3c5157b8",
       "version_major": 2,
       "version_minor": 0
      },
      "text/plain": [
       "  0%|          | 0/35 [00:00<?, ?it/s]"
      ]
     },
     "metadata": {},
     "output_type": "display_data"
    },
    {
     "name": "stdout",
     "output_type": "stream",
     "text": [
      "epoch=1: train_ppl=tensor(1.3593, device='cuda:0') train_epoch_loss=tensor(0.3070, device='cuda:0') eval_ppl=tensor(1.3579, device='cuda:0') eval_epoch_loss=tensor(0.3059, device='cuda:0')\n",
      "Precision: 0.676, Recall: 0.459, F1: 0.547\n"
     ]
    },
    {
     "data": {
      "application/vnd.jupyter.widget-view+json": {
       "model_id": "976b6aac9d3949b6b3e36c872ed2af79",
       "version_major": 2,
       "version_minor": 0
      },
      "text/plain": [
       "  0%|          | 0/285 [00:00<?, ?it/s]"
      ]
     },
     "metadata": {},
     "output_type": "display_data"
    },
    {
     "data": {
      "application/vnd.jupyter.widget-view+json": {
       "model_id": "22027eafe863454d8b054fb8f57db5f9",
       "version_major": 2,
       "version_minor": 0
      },
      "text/plain": [
       "  0%|          | 0/35 [00:00<?, ?it/s]"
      ]
     },
     "metadata": {},
     "output_type": "display_data"
    },
    {
     "name": "stdout",
     "output_type": "stream",
     "text": [
      "epoch=2: train_ppl=tensor(1.3122, device='cuda:0') train_epoch_loss=tensor(0.2717, device='cuda:0') eval_ppl=tensor(1.3281, device='cuda:0') eval_epoch_loss=tensor(0.2837, device='cuda:0')\n",
      "Precision: 0.824, Recall: 0.453, F1: 0.584\n",
      "saving best model (currently: epoch 2)\n"
     ]
    },
    {
     "data": {
      "application/vnd.jupyter.widget-view+json": {
       "model_id": "339f512eb84844709292af205959d449",
       "version_major": 2,
       "version_minor": 0
      },
      "text/plain": [
       "  0%|          | 0/285 [00:00<?, ?it/s]"
      ]
     },
     "metadata": {},
     "output_type": "display_data"
    },
    {
     "data": {
      "application/vnd.jupyter.widget-view+json": {
       "model_id": "6956e963523a44b6ba0f1c8dafa8b648",
       "version_major": 2,
       "version_minor": 0
      },
      "text/plain": [
       "  0%|          | 0/35 [00:00<?, ?it/s]"
      ]
     },
     "metadata": {},
     "output_type": "display_data"
    },
    {
     "name": "stdout",
     "output_type": "stream",
     "text": [
      "epoch=3: train_ppl=tensor(1.2739, device='cuda:0') train_epoch_loss=tensor(0.2421, device='cuda:0') eval_ppl=tensor(1.3690, device='cuda:0') eval_epoch_loss=tensor(0.3141, device='cuda:0')\n",
      "Precision: 0.867, Recall: 0.457, F1: 0.598\n",
      "saving best model (currently: epoch 3)\n"
     ]
    },
    {
     "data": {
      "application/vnd.jupyter.widget-view+json": {
       "model_id": "416ae5eca37844f19ec3d5aeb71bae4c",
       "version_major": 2,
       "version_minor": 0
      },
      "text/plain": [
       "  0%|          | 0/285 [00:00<?, ?it/s]"
      ]
     },
     "metadata": {},
     "output_type": "display_data"
    },
    {
     "data": {
      "application/vnd.jupyter.widget-view+json": {
       "model_id": "f1e5edb61a23412e87baf8a59b567353",
       "version_major": 2,
       "version_minor": 0
      },
      "text/plain": [
       "  0%|          | 0/35 [00:00<?, ?it/s]"
      ]
     },
     "metadata": {},
     "output_type": "display_data"
    },
    {
     "name": "stdout",
     "output_type": "stream",
     "text": [
      "epoch=4: train_ppl=tensor(1.2520, device='cuda:0') train_epoch_loss=tensor(0.2248, device='cuda:0') eval_ppl=tensor(1.3008, device='cuda:0') eval_epoch_loss=tensor(0.2630, device='cuda:0')\n",
      "Precision: 0.774, Recall: 0.628, F1: 0.693\n",
      "saving best model (currently: epoch 4)\n"
     ]
    },
    {
     "data": {
      "application/vnd.jupyter.widget-view+json": {
       "model_id": "b903bec40c764325bed182ca18ea4939",
       "version_major": 2,
       "version_minor": 0
      },
      "text/plain": [
       "  0%|          | 0/285 [00:00<?, ?it/s]"
      ]
     },
     "metadata": {},
     "output_type": "display_data"
    },
    {
     "data": {
      "application/vnd.jupyter.widget-view+json": {
       "model_id": "df02dc5cf057420fb25e60813fed55c7",
       "version_major": 2,
       "version_minor": 0
      },
      "text/plain": [
       "  0%|          | 0/35 [00:00<?, ?it/s]"
      ]
     },
     "metadata": {},
     "output_type": "display_data"
    },
    {
     "name": "stdout",
     "output_type": "stream",
     "text": [
      "epoch=5: train_ppl=tensor(1.2376, device='cuda:0') train_epoch_loss=tensor(0.2131, device='cuda:0') eval_ppl=tensor(1.2917, device='cuda:0') eval_epoch_loss=tensor(0.2560, device='cuda:0')\n",
      "Precision: 0.759, Recall: 0.660, F1: 0.706\n",
      "saving best model (currently: epoch 5)\n"
     ]
    },
    {
     "data": {
      "application/vnd.jupyter.widget-view+json": {
       "model_id": "ff6a8b033a8f464ca323a301f2a0b2f4",
       "version_major": 2,
       "version_minor": 0
      },
      "text/plain": [
       "  0%|          | 0/285 [00:00<?, ?it/s]"
      ]
     },
     "metadata": {},
     "output_type": "display_data"
    },
    {
     "data": {
      "application/vnd.jupyter.widget-view+json": {
       "model_id": "e655cbfc34f34ef2adecbe2d5f2f05ac",
       "version_major": 2,
       "version_minor": 0
      },
      "text/plain": [
       "  0%|          | 0/35 [00:00<?, ?it/s]"
      ]
     },
     "metadata": {},
     "output_type": "display_data"
    },
    {
     "name": "stdout",
     "output_type": "stream",
     "text": [
      "epoch=6: train_ppl=tensor(1.2282, device='cuda:0') train_epoch_loss=tensor(0.2055, device='cuda:0') eval_ppl=tensor(1.3826, device='cuda:0') eval_epoch_loss=tensor(0.3239, device='cuda:0')\n",
      "Precision: 0.819, Recall: 0.549, F1: 0.658\n"
     ]
    },
    {
     "data": {
      "application/vnd.jupyter.widget-view+json": {
       "model_id": "1fa1d01e649d4be598333d7926251098",
       "version_major": 2,
       "version_minor": 0
      },
      "text/plain": [
       "  0%|          | 0/285 [00:00<?, ?it/s]"
      ]
     },
     "metadata": {},
     "output_type": "display_data"
    },
    {
     "data": {
      "application/vnd.jupyter.widget-view+json": {
       "model_id": "bf191e19e4c44f19826a66dfd2f08556",
       "version_major": 2,
       "version_minor": 0
      },
      "text/plain": [
       "  0%|          | 0/35 [00:00<?, ?it/s]"
      ]
     },
     "metadata": {},
     "output_type": "display_data"
    },
    {
     "name": "stdout",
     "output_type": "stream",
     "text": [
      "epoch=7: train_ppl=tensor(1.2195, device='cuda:0') train_epoch_loss=tensor(0.1985, device='cuda:0') eval_ppl=tensor(1.3074, device='cuda:0') eval_epoch_loss=tensor(0.2680, device='cuda:0')\n",
      "Precision: 0.733, Recall: 0.671, F1: 0.700\n"
     ]
    },
    {
     "data": {
      "application/vnd.jupyter.widget-view+json": {
       "model_id": "c2800ab7ebac4861ba26b7082b965526",
       "version_major": 2,
       "version_minor": 0
      },
      "text/plain": [
       "  0%|          | 0/285 [00:00<?, ?it/s]"
      ]
     },
     "metadata": {},
     "output_type": "display_data"
    },
    {
     "data": {
      "application/vnd.jupyter.widget-view+json": {
       "model_id": "e817740b4e8044e6808f92585da90684",
       "version_major": 2,
       "version_minor": 0
      },
      "text/plain": [
       "  0%|          | 0/35 [00:00<?, ?it/s]"
      ]
     },
     "metadata": {},
     "output_type": "display_data"
    },
    {
     "name": "stdout",
     "output_type": "stream",
     "text": [
      "epoch=8: train_ppl=tensor(1.2055, device='cuda:0') train_epoch_loss=tensor(0.1869, device='cuda:0') eval_ppl=tensor(1.3366, device='cuda:0') eval_epoch_loss=tensor(0.2901, device='cuda:0')\n",
      "Precision: 0.795, Recall: 0.597, F1: 0.682\n"
     ]
    },
    {
     "data": {
      "application/vnd.jupyter.widget-view+json": {
       "model_id": "c0050413c07845fb8899f6c3dd434d9e",
       "version_major": 2,
       "version_minor": 0
      },
      "text/plain": [
       "  0%|          | 0/285 [00:00<?, ?it/s]"
      ]
     },
     "metadata": {},
     "output_type": "display_data"
    },
    {
     "data": {
      "application/vnd.jupyter.widget-view+json": {
       "model_id": "b5e52422b1e941c79f54456702359387",
       "version_major": 2,
       "version_minor": 0
      },
      "text/plain": [
       "  0%|          | 0/35 [00:00<?, ?it/s]"
      ]
     },
     "metadata": {},
     "output_type": "display_data"
    },
    {
     "name": "stdout",
     "output_type": "stream",
     "text": [
      "epoch=9: train_ppl=tensor(1.1888, device='cuda:0') train_epoch_loss=tensor(0.1729, device='cuda:0') eval_ppl=tensor(1.3486, device='cuda:0') eval_epoch_loss=tensor(0.2991, device='cuda:0')\n",
      "Precision: 0.766, Recall: 0.605, F1: 0.676\n"
     ]
    },
    {
     "data": {
      "application/vnd.jupyter.widget-view+json": {
       "model_id": "20ed982c83df4d4dace74fac3d0d1032",
       "version_major": 2,
       "version_minor": 0
      },
      "text/plain": [
       "  0%|          | 0/285 [00:00<?, ?it/s]"
      ]
     },
     "metadata": {},
     "output_type": "display_data"
    },
    {
     "data": {
      "application/vnd.jupyter.widget-view+json": {
       "model_id": "3a60e07b5ee04a0a844c136365a69234",
       "version_major": 2,
       "version_minor": 0
      },
      "text/plain": [
       "  0%|          | 0/35 [00:00<?, ?it/s]"
      ]
     },
     "metadata": {},
     "output_type": "display_data"
    },
    {
     "name": "stdout",
     "output_type": "stream",
     "text": [
      "epoch=10: train_ppl=tensor(1.1859, device='cuda:0') train_epoch_loss=tensor(0.1705, device='cuda:0') eval_ppl=tensor(1.3261, device='cuda:0') eval_epoch_loss=tensor(0.2823, device='cuda:0')\n",
      "Precision: 0.747, Recall: 0.698, F1: 0.721\n",
      "saving best model (currently: epoch 10)\n"
     ]
    },
    {
     "data": {
      "application/vnd.jupyter.widget-view+json": {
       "model_id": "2d3cf3c191524375a51bb0f39ff15673",
       "version_major": 2,
       "version_minor": 0
      },
      "text/plain": [
       "  0%|          | 0/285 [00:00<?, ?it/s]"
      ]
     },
     "metadata": {},
     "output_type": "display_data"
    },
    {
     "data": {
      "application/vnd.jupyter.widget-view+json": {
       "model_id": "7dcc104fb48b464595fdbfe1587f850a",
       "version_major": 2,
       "version_minor": 0
      },
      "text/plain": [
       "  0%|          | 0/35 [00:00<?, ?it/s]"
      ]
     },
     "metadata": {},
     "output_type": "display_data"
    },
    {
     "name": "stdout",
     "output_type": "stream",
     "text": [
      "epoch=11: train_ppl=tensor(1.1768, device='cuda:0') train_epoch_loss=tensor(0.1628, device='cuda:0') eval_ppl=tensor(1.3221, device='cuda:0') eval_epoch_loss=tensor(0.2792, device='cuda:0')\n",
      "Precision: 0.725, Recall: 0.673, F1: 0.698\n"
     ]
    },
    {
     "data": {
      "application/vnd.jupyter.widget-view+json": {
       "model_id": "da886b0bd5f0465b8c5b5bdee14e0f69",
       "version_major": 2,
       "version_minor": 0
      },
      "text/plain": [
       "  0%|          | 0/285 [00:00<?, ?it/s]"
      ]
     },
     "metadata": {},
     "output_type": "display_data"
    },
    {
     "data": {
      "application/vnd.jupyter.widget-view+json": {
       "model_id": "5b895ddb28754cc9a7724a4f700a4c43",
       "version_major": 2,
       "version_minor": 0
      },
      "text/plain": [
       "  0%|          | 0/35 [00:00<?, ?it/s]"
      ]
     },
     "metadata": {},
     "output_type": "display_data"
    },
    {
     "name": "stdout",
     "output_type": "stream",
     "text": [
      "epoch=12: train_ppl=tensor(1.1755, device='cuda:0') train_epoch_loss=tensor(0.1617, device='cuda:0') eval_ppl=tensor(1.3527, device='cuda:0') eval_epoch_loss=tensor(0.3021, device='cuda:0')\n",
      "Precision: 0.748, Recall: 0.658, F1: 0.700\n"
     ]
    },
    {
     "data": {
      "application/vnd.jupyter.widget-view+json": {
       "model_id": "c4aa7bc3870943b1881f5899c84ecfe1",
       "version_major": 2,
       "version_minor": 0
      },
      "text/plain": [
       "  0%|          | 0/285 [00:00<?, ?it/s]"
      ]
     },
     "metadata": {},
     "output_type": "display_data"
    },
    {
     "data": {
      "application/vnd.jupyter.widget-view+json": {
       "model_id": "b0913fcd0ee74c61a0244de98802b4ad",
       "version_major": 2,
       "version_minor": 0
      },
      "text/plain": [
       "  0%|          | 0/35 [00:00<?, ?it/s]"
      ]
     },
     "metadata": {},
     "output_type": "display_data"
    },
    {
     "name": "stdout",
     "output_type": "stream",
     "text": [
      "epoch=13: train_ppl=tensor(1.1721, device='cuda:0') train_epoch_loss=tensor(0.1588, device='cuda:0') eval_ppl=tensor(1.3631, device='cuda:0') eval_epoch_loss=tensor(0.3098, device='cuda:0')\n",
      "Precision: 0.810, Recall: 0.607, F1: 0.694\n"
     ]
    },
    {
     "data": {
      "application/vnd.jupyter.widget-view+json": {
       "model_id": "8f7bd366d8084cf3a7e9e91dae08faa9",
       "version_major": 2,
       "version_minor": 0
      },
      "text/plain": [
       "  0%|          | 0/285 [00:00<?, ?it/s]"
      ]
     },
     "metadata": {},
     "output_type": "display_data"
    },
    {
     "data": {
      "application/vnd.jupyter.widget-view+json": {
       "model_id": "3bfecd5890c04478bb5f8ddd57a63bb5",
       "version_major": 2,
       "version_minor": 0
      },
      "text/plain": [
       "  0%|          | 0/35 [00:00<?, ?it/s]"
      ]
     },
     "metadata": {},
     "output_type": "display_data"
    },
    {
     "name": "stdout",
     "output_type": "stream",
     "text": [
      "epoch=14: train_ppl=tensor(1.1640, device='cuda:0') train_epoch_loss=tensor(0.1518, device='cuda:0') eval_ppl=tensor(1.3588, device='cuda:0') eval_epoch_loss=tensor(0.3066, device='cuda:0')\n",
      "Precision: 0.783, Recall: 0.630, F1: 0.698\n"
     ]
    },
    {
     "data": {
      "application/vnd.jupyter.widget-view+json": {
       "model_id": "485301b6d42142a7ab82316ca9f3fa54",
       "version_major": 2,
       "version_minor": 0
      },
      "text/plain": [
       "  0%|          | 0/285 [00:00<?, ?it/s]"
      ]
     },
     "metadata": {},
     "output_type": "display_data"
    },
    {
     "data": {
      "application/vnd.jupyter.widget-view+json": {
       "model_id": "b8cdbdcc1d1d47ddae6fce52de2a5184",
       "version_major": 2,
       "version_minor": 0
      },
      "text/plain": [
       "  0%|          | 0/35 [00:00<?, ?it/s]"
      ]
     },
     "metadata": {},
     "output_type": "display_data"
    },
    {
     "name": "stdout",
     "output_type": "stream",
     "text": [
      "epoch=15: train_ppl=tensor(1.1599, device='cuda:0') train_epoch_loss=tensor(0.1483, device='cuda:0') eval_ppl=tensor(1.3597, device='cuda:0') eval_epoch_loss=tensor(0.3072, device='cuda:0')\n",
      "Precision: 0.738, Recall: 0.667, F1: 0.701\n"
     ]
    },
    {
     "data": {
      "application/vnd.jupyter.widget-view+json": {
       "model_id": "9cfd8dc5c9df42eab860e0db97c2d487",
       "version_major": 2,
       "version_minor": 0
      },
      "text/plain": [
       "  0%|          | 0/285 [00:00<?, ?it/s]"
      ]
     },
     "metadata": {},
     "output_type": "display_data"
    },
    {
     "data": {
      "application/vnd.jupyter.widget-view+json": {
       "model_id": "6d259b4d599148bbbba8f873383d0519",
       "version_major": 2,
       "version_minor": 0
      },
      "text/plain": [
       "  0%|          | 0/35 [00:00<?, ?it/s]"
      ]
     },
     "metadata": {},
     "output_type": "display_data"
    },
    {
     "name": "stdout",
     "output_type": "stream",
     "text": [
      "epoch=16: train_ppl=tensor(1.1588, device='cuda:0') train_epoch_loss=tensor(0.1474, device='cuda:0') eval_ppl=tensor(1.3843, device='cuda:0') eval_epoch_loss=tensor(0.3252, device='cuda:0')\n",
      "Precision: 0.771, Recall: 0.632, F1: 0.695\n"
     ]
    },
    {
     "data": {
      "application/vnd.jupyter.widget-view+json": {
       "model_id": "bc9f94c83b544dc185eb814597fd2557",
       "version_major": 2,
       "version_minor": 0
      },
      "text/plain": [
       "  0%|          | 0/285 [00:00<?, ?it/s]"
      ]
     },
     "metadata": {},
     "output_type": "display_data"
    },
    {
     "data": {
      "application/vnd.jupyter.widget-view+json": {
       "model_id": "a220192841574f338caa6875db796c39",
       "version_major": 2,
       "version_minor": 0
      },
      "text/plain": [
       "  0%|          | 0/35 [00:00<?, ?it/s]"
      ]
     },
     "metadata": {},
     "output_type": "display_data"
    },
    {
     "name": "stdout",
     "output_type": "stream",
     "text": [
      "epoch=17: train_ppl=tensor(1.1565, device='cuda:0') train_epoch_loss=tensor(0.1454, device='cuda:0') eval_ppl=tensor(1.3735, device='cuda:0') eval_epoch_loss=tensor(0.3174, device='cuda:0')\n",
      "Precision: 0.754, Recall: 0.650, F1: 0.698\n"
     ]
    },
    {
     "data": {
      "application/vnd.jupyter.widget-view+json": {
       "model_id": "23db428c82f04be5af4d89d849da29aa",
       "version_major": 2,
       "version_minor": 0
      },
      "text/plain": [
       "  0%|          | 0/285 [00:00<?, ?it/s]"
      ]
     },
     "metadata": {},
     "output_type": "display_data"
    },
    {
     "data": {
      "application/vnd.jupyter.widget-view+json": {
       "model_id": "118ba1f421c5467fa61a3e2856476b97",
       "version_major": 2,
       "version_minor": 0
      },
      "text/plain": [
       "  0%|          | 0/35 [00:00<?, ?it/s]"
      ]
     },
     "metadata": {},
     "output_type": "display_data"
    },
    {
     "name": "stdout",
     "output_type": "stream",
     "text": [
      "epoch=18: train_ppl=tensor(1.1520, device='cuda:0') train_epoch_loss=tensor(0.1415, device='cuda:0') eval_ppl=tensor(1.3689, device='cuda:0') eval_epoch_loss=tensor(0.3140, device='cuda:0')\n",
      "Precision: 0.752, Recall: 0.656, F1: 0.701\n"
     ]
    },
    {
     "data": {
      "application/vnd.jupyter.widget-view+json": {
       "model_id": "6e8e6b38c3fe4163adfd5804682761d0",
       "version_major": 2,
       "version_minor": 0
      },
      "text/plain": [
       "  0%|          | 0/285 [00:00<?, ?it/s]"
      ]
     },
     "metadata": {},
     "output_type": "display_data"
    },
    {
     "data": {
      "application/vnd.jupyter.widget-view+json": {
       "model_id": "93c264dbc4104aa4838500fc8d1ba009",
       "version_major": 2,
       "version_minor": 0
      },
      "text/plain": [
       "  0%|          | 0/35 [00:00<?, ?it/s]"
      ]
     },
     "metadata": {},
     "output_type": "display_data"
    },
    {
     "name": "stdout",
     "output_type": "stream",
     "text": [
      "epoch=19: train_ppl=tensor(1.1515, device='cuda:0') train_epoch_loss=tensor(0.1411, device='cuda:0') eval_ppl=tensor(1.3739, device='cuda:0') eval_epoch_loss=tensor(0.3176, device='cuda:0')\n",
      "Precision: 0.748, Recall: 0.654, F1: 0.698\n"
     ]
    }
   ],
   "source": [
    "model = model.to(device)\n",
    "outdir = '/shared/2/projects/contextual-appropriateness/models/peft/%s/seed-%d/' % (model_name_or_path, seed)\n",
    "\n",
    "best_f1 = 0\n",
    "best_model = 0\n",
    "\n",
    "for epoch in trange(num_epochs):\n",
    "    model.train()\n",
    "    total_loss = 0\n",
    "    for step, batch in enumerate(tqdm(train_dataloader)):\n",
    "        batch = {k: v.to(device) for k, v in batch.items()}\n",
    "        outputs = model(**batch)\n",
    "        loss = outputs.loss\n",
    "        total_loss += loss.detach().float()\n",
    "        loss.backward()\n",
    "        optimizer.step()\n",
    "        lr_scheduler.step()\n",
    "        optimizer.zero_grad()\n",
    "\n",
    "    model.eval()\n",
    "    eval_loss = 0\n",
    "    eval_preds = []\n",
    "    for step, batch in enumerate(tqdm(eval_dataloader)):\n",
    "        batch = {k: v.to(device) for k, v in batch.items()}\n",
    "        with torch.no_grad():\n",
    "            outputs = model(**batch)\n",
    "        loss = outputs.loss\n",
    "        eval_loss += loss.detach().float()\n",
    "        eval_preds.extend(\n",
    "            tokenizer.batch_decode(torch.argmax(outputs.logits, -1).detach().cpu().numpy(), \n",
    "                                   skip_special_tokens=True)\n",
    "        )\n",
    "\n",
    "    eval_bin_preds = [1 if p == 'yes' else 0 for p in eval_preds]\n",
    "    p,r,f1,s = precision_recall_fscore_support(eval_df['label'], eval_bin_preds, average='binary')\n",
    "\n",
    "\n",
    "    eval_epoch_loss = eval_loss / len(eval_dataloader)\n",
    "    eval_ppl = torch.exp(eval_epoch_loss)\n",
    "    train_epoch_loss = total_loss / len(train_dataloader)\n",
    "    train_ppl = torch.exp(train_epoch_loss)\n",
    "    print(f\"{epoch=}: {train_ppl=} {train_epoch_loss=} {eval_ppl=} {eval_epoch_loss=}\")\n",
    "    print('Precision: %.3f, Recall: %.3f, F1: %.3f' % (p,r,f1))\n",
    "            \n",
    "    if best_f1 < f1:\n",
    "        best_f1 = f1\n",
    "        print('saving best model (currently: epoch %d)' % epoch)\n",
    "        model.save_pretrained(outdir + 'best/')\n",
    "    model.save_pretrained(outdir + 'epoch-%03d/' % epoch)"
   ]
  },
  {
   "cell_type": "markdown",
   "metadata": {},
   "source": [
    "# Load in best model"
   ]
  },
  {
   "cell_type": "code",
   "execution_count": 160,
   "metadata": {},
   "outputs": [
    {
     "data": {
      "application/vnd.jupyter.widget-view+json": {
       "model_id": "86e812058de8422cb32252c45543996c",
       "version_major": 2,
       "version_minor": 0
      },
      "text/plain": [
       "Loading checkpoint shards:   0%|          | 0/2 [00:00<?, ?it/s]"
      ]
     },
     "metadata": {},
     "output_type": "display_data"
    }
   ],
   "source": [
    "best_model_dir = '/shared/2/projects/contextual-appropriateness/models/peft/%s/seed-%d/best' \\\n",
    "    % (model_name_or_path, seed)\n",
    "\n",
    "config = PeftConfig.from_pretrained(best_model_dir)\n",
    "model = AutoModelForSeq2SeqLM.from_pretrained(config.base_model_name_or_path)\n",
    "model = PeftModel.from_pretrained(model, best_model_dir)\n",
    "model.to(device)\n",
    "\n",
    "test_dataloader = DataLoader(test_dataset, collate_fn=default_data_collator, \n",
    "                             batch_size=batch_size, pin_memory=True)"
   ]
  },
  {
   "cell_type": "code",
   "execution_count": 161,
   "metadata": {},
   "outputs": [
    {
     "data": {
      "application/vnd.jupyter.widget-view+json": {
       "model_id": "e18e5d0f14264ce6a4d5eeeb68385d78",
       "version_major": 2,
       "version_minor": 0
      },
      "text/plain": [
       "  0%|          | 0/64 [00:00<?, ?it/s]"
      ]
     },
     "metadata": {},
     "output_type": "display_data"
    }
   ],
   "source": [
    "model.eval()\n",
    "eval_preds = []\n",
    "for step, batch in enumerate(tqdm(test_dataloader)):\n",
    "    batch = {k: v.to(device) for k, v in batch.items()}\n",
    "    with torch.no_grad():\n",
    "        outputs = model(**batch)\n",
    "    eval_preds.extend(\n",
    "        tokenizer.batch_decode(torch.argmax(outputs.logits, -1).detach().cpu().numpy(), \n",
    "                               skip_special_tokens=True)\n",
    "    )\n",
    "\n",
    "eval_bin_preds = [1 if p == 'yes' else 0 for p in eval_preds]"
   ]
  },
  {
   "cell_type": "code",
   "execution_count": 162,
   "metadata": {},
   "outputs": [
    {
     "name": "stdout",
     "output_type": "stream",
     "text": [
      "accuracy=72.10448496796451 % on the evaluation dataset\n",
      "eval_preds[:10]=['no', 'no', 'no', 'no', 'no', 'no', 'no', 'no', 'no', 'no']\n",
      "dataset['test']['answer'][:10]=['no', 'no', 'no', 'no', 'no', 'no', 'no', 'no', 'no', 'no']\n"
     ]
    }
   ],
   "source": [
    "correct = 0\n",
    "total = 0\n",
    "for pred, true in zip(eval_preds, dataset[\"test\"][\"answer\"]):\n",
    "    if pred.strip() == true.strip():\n",
    "        correct += 1\n",
    "    total += 1\n",
    "accuracy = correct / total * 100\n",
    "print(f\"{accuracy=} % on the evaluation dataset\")\n",
    "print(f\"{eval_preds[:10]=}\")\n",
    "print(f\"{dataset['test']['answer'][:10]=}\")"
   ]
  },
  {
   "cell_type": "code",
   "execution_count": 163,
   "metadata": {},
   "outputs": [],
   "source": [
    "test_preds = [1 if p == 'yes' else 0 for p in eval_preds]\n",
    "test_df2 = test_df.copy()\n",
    "test_df2['predicted'] = test_preds"
   ]
  },
  {
   "cell_type": "code",
   "execution_count": 164,
   "metadata": {},
   "outputs": [
    {
     "data": {
      "text/html": [
       "<div>\n",
       "<style scoped>\n",
       "    .dataframe tbody tr th:only-of-type {\n",
       "        vertical-align: middle;\n",
       "    }\n",
       "\n",
       "    .dataframe tbody tr th {\n",
       "        vertical-align: top;\n",
       "    }\n",
       "\n",
       "    .dataframe thead th {\n",
       "        text-align: right;\n",
       "    }\n",
       "</style>\n",
       "<table border=\"1\" class=\"dataframe\">\n",
       "  <thead>\n",
       "    <tr style=\"text-align: right;\">\n",
       "      <th></th>\n",
       "      <th>relationship</th>\n",
       "      <th>precision</th>\n",
       "      <th>recall</th>\n",
       "      <th>f1</th>\n",
       "      <th>training examples</th>\n",
       "    </tr>\n",
       "  </thead>\n",
       "  <tbody>\n",
       "    <tr>\n",
       "      <th>0</th>\n",
       "      <td>hero</td>\n",
       "      <td>1.000000</td>\n",
       "      <td>1.000000</td>\n",
       "      <td>1.000000</td>\n",
       "      <td>5.0</td>\n",
       "    </tr>\n",
       "    <tr>\n",
       "      <th>1</th>\n",
       "      <td>client</td>\n",
       "      <td>0.833333</td>\n",
       "      <td>1.000000</td>\n",
       "      <td>0.909091</td>\n",
       "      <td>8.0</td>\n",
       "    </tr>\n",
       "    <tr>\n",
       "      <th>2</th>\n",
       "      <td>teacher</td>\n",
       "      <td>0.857143</td>\n",
       "      <td>0.923077</td>\n",
       "      <td>0.888889</td>\n",
       "      <td>37.0</td>\n",
       "    </tr>\n",
       "    <tr>\n",
       "      <th>3</th>\n",
       "      <td>patient</td>\n",
       "      <td>0.800000</td>\n",
       "      <td>1.000000</td>\n",
       "      <td>0.888889</td>\n",
       "      <td>6.0</td>\n",
       "    </tr>\n",
       "    <tr>\n",
       "      <th>4</th>\n",
       "      <td>boss</td>\n",
       "      <td>0.811594</td>\n",
       "      <td>0.965517</td>\n",
       "      <td>0.881890</td>\n",
       "      <td>74.0</td>\n",
       "    </tr>\n",
       "  </tbody>\n",
       "</table>\n",
       "</div>"
      ],
      "text/plain": [
       "  relationship  precision    recall        f1  training examples\n",
       "0         hero   1.000000  1.000000  1.000000                5.0\n",
       "1       client   0.833333  1.000000  0.909091                8.0\n",
       "2      teacher   0.857143  0.923077  0.888889               37.0\n",
       "3      patient   0.800000  1.000000  0.888889                6.0\n",
       "4         boss   0.811594  0.965517  0.881890               74.0"
      ]
     },
     "execution_count": 164,
     "metadata": {},
     "output_type": "execute_result"
    }
   ],
   "source": [
    "def score(sdf):\n",
    "    #f1 = f1_score(sdf.actual, sdf.predicted, average='binary')\n",
    "    #cat = list(set(sdf.category))[0]\n",
    "    p, r, f1, sup = precision_recall_fscore_support(sdf.label, sdf.predicted, average='binary')\n",
    "    return pd.Series({'precision': p, 'recall': r, 'f1': f1, 'training examples': len(sdf)})\n",
    "\n",
    "res = test_df2.groupby('relationship').apply(score).sort_values(by='f1', ascending=False).reset_index()\n",
    "res.head()"
   ]
  },
  {
   "cell_type": "code",
   "execution_count": 165,
   "metadata": {},
   "outputs": [
    {
     "data": {
      "text/html": [
       "<div>\n",
       "<style scoped>\n",
       "    .dataframe tbody tr th:only-of-type {\n",
       "        vertical-align: middle;\n",
       "    }\n",
       "\n",
       "    .dataframe tbody tr th {\n",
       "        vertical-align: top;\n",
       "    }\n",
       "\n",
       "    .dataframe thead th {\n",
       "        text-align: right;\n",
       "    }\n",
       "</style>\n",
       "<table border=\"1\" class=\"dataframe\">\n",
       "  <thead>\n",
       "    <tr style=\"text-align: right;\">\n",
       "      <th></th>\n",
       "      <th>relationship</th>\n",
       "      <th>precision</th>\n",
       "      <th>recall</th>\n",
       "      <th>f1</th>\n",
       "      <th>training examples</th>\n",
       "    </tr>\n",
       "  </thead>\n",
       "  <tbody>\n",
       "    <tr>\n",
       "      <th>39</th>\n",
       "      <td>friends_with_benefits</td>\n",
       "      <td>0.333333</td>\n",
       "      <td>0.181818</td>\n",
       "      <td>0.235294</td>\n",
       "      <td>54.0</td>\n",
       "    </tr>\n",
       "    <tr>\n",
       "      <th>40</th>\n",
       "      <td>engaged</td>\n",
       "      <td>0.333333</td>\n",
       "      <td>0.181818</td>\n",
       "      <td>0.235294</td>\n",
       "      <td>58.0</td>\n",
       "    </tr>\n",
       "    <tr>\n",
       "      <th>41</th>\n",
       "      <td>person_having_an_affair</td>\n",
       "      <td>0.400000</td>\n",
       "      <td>0.166667</td>\n",
       "      <td>0.235294</td>\n",
       "      <td>50.0</td>\n",
       "    </tr>\n",
       "    <tr>\n",
       "      <th>42</th>\n",
       "      <td>cousins</td>\n",
       "      <td>0.142857</td>\n",
       "      <td>0.142857</td>\n",
       "      <td>0.142857</td>\n",
       "      <td>56.0</td>\n",
       "    </tr>\n",
       "    <tr>\n",
       "      <th>43</th>\n",
       "      <td>old_friend</td>\n",
       "      <td>0.181818</td>\n",
       "      <td>0.095238</td>\n",
       "      <td>0.125000</td>\n",
       "      <td>65.0</td>\n",
       "    </tr>\n",
       "    <tr>\n",
       "      <th>44</th>\n",
       "      <td>childhood_friend</td>\n",
       "      <td>0.125000</td>\n",
       "      <td>0.055556</td>\n",
       "      <td>0.076923</td>\n",
       "      <td>64.0</td>\n",
       "    </tr>\n",
       "    <tr>\n",
       "      <th>45</th>\n",
       "      <td>sibling</td>\n",
       "      <td>0.000000</td>\n",
       "      <td>0.000000</td>\n",
       "      <td>0.000000</td>\n",
       "      <td>61.0</td>\n",
       "    </tr>\n",
       "    <tr>\n",
       "      <th>46</th>\n",
       "      <td>step_sibling</td>\n",
       "      <td>0.000000</td>\n",
       "      <td>0.000000</td>\n",
       "      <td>0.000000</td>\n",
       "      <td>56.0</td>\n",
       "    </tr>\n",
       "    <tr>\n",
       "      <th>47</th>\n",
       "      <td>best_friend</td>\n",
       "      <td>0.000000</td>\n",
       "      <td>0.000000</td>\n",
       "      <td>0.000000</td>\n",
       "      <td>80.0</td>\n",
       "    </tr>\n",
       "    <tr>\n",
       "      <th>48</th>\n",
       "      <td>friend</td>\n",
       "      <td>0.000000</td>\n",
       "      <td>0.000000</td>\n",
       "      <td>0.000000</td>\n",
       "      <td>72.0</td>\n",
       "    </tr>\n",
       "  </tbody>\n",
       "</table>\n",
       "</div>"
      ],
      "text/plain": [
       "               relationship  precision    recall        f1  training examples\n",
       "39    friends_with_benefits   0.333333  0.181818  0.235294               54.0\n",
       "40                  engaged   0.333333  0.181818  0.235294               58.0\n",
       "41  person_having_an_affair   0.400000  0.166667  0.235294               50.0\n",
       "42                  cousins   0.142857  0.142857  0.142857               56.0\n",
       "43               old_friend   0.181818  0.095238  0.125000               65.0\n",
       "44         childhood_friend   0.125000  0.055556  0.076923               64.0\n",
       "45                  sibling   0.000000  0.000000  0.000000               61.0\n",
       "46             step_sibling   0.000000  0.000000  0.000000               56.0\n",
       "47              best_friend   0.000000  0.000000  0.000000               80.0\n",
       "48                   friend   0.000000  0.000000  0.000000               72.0"
      ]
     },
     "execution_count": 165,
     "metadata": {},
     "output_type": "execute_result"
    }
   ],
   "source": [
    "res.tail(10)"
   ]
  },
  {
   "cell_type": "code",
   "execution_count": 166,
   "metadata": {},
   "outputs": [
    {
     "data": {
      "text/html": [
       "<div>\n",
       "<style scoped>\n",
       "    .dataframe tbody tr th:only-of-type {\n",
       "        vertical-align: middle;\n",
       "    }\n",
       "\n",
       "    .dataframe tbody tr th {\n",
       "        vertical-align: top;\n",
       "    }\n",
       "\n",
       "    .dataframe thead th {\n",
       "        text-align: right;\n",
       "    }\n",
       "</style>\n",
       "<table border=\"1\" class=\"dataframe\">\n",
       "  <thead>\n",
       "    <tr style=\"text-align: right;\">\n",
       "      <th></th>\n",
       "      <th>precision</th>\n",
       "      <th>recall</th>\n",
       "      <th>f1</th>\n",
       "      <th>training examples</th>\n",
       "    </tr>\n",
       "  </thead>\n",
       "  <tbody>\n",
       "    <tr>\n",
       "      <th>precision</th>\n",
       "      <td>1.000000</td>\n",
       "      <td>0.874682</td>\n",
       "      <td>0.954489</td>\n",
       "      <td>-0.546523</td>\n",
       "    </tr>\n",
       "    <tr>\n",
       "      <th>recall</th>\n",
       "      <td>0.874682</td>\n",
       "      <td>1.000000</td>\n",
       "      <td>0.977124</td>\n",
       "      <td>-0.568010</td>\n",
       "    </tr>\n",
       "    <tr>\n",
       "      <th>f1</th>\n",
       "      <td>0.954489</td>\n",
       "      <td>0.977124</td>\n",
       "      <td>1.000000</td>\n",
       "      <td>-0.578116</td>\n",
       "    </tr>\n",
       "    <tr>\n",
       "      <th>training examples</th>\n",
       "      <td>-0.546523</td>\n",
       "      <td>-0.568010</td>\n",
       "      <td>-0.578116</td>\n",
       "      <td>1.000000</td>\n",
       "    </tr>\n",
       "  </tbody>\n",
       "</table>\n",
       "</div>"
      ],
      "text/plain": [
       "                   precision    recall        f1  training examples\n",
       "precision           1.000000  0.874682  0.954489          -0.546523\n",
       "recall              0.874682  1.000000  0.977124          -0.568010\n",
       "f1                  0.954489  0.977124  1.000000          -0.578116\n",
       "training examples  -0.546523 -0.568010 -0.578116           1.000000"
      ]
     },
     "execution_count": 166,
     "metadata": {},
     "output_type": "execute_result"
    }
   ],
   "source": [
    "res[res.columns[1:]].corr()"
   ]
  },
  {
   "cell_type": "markdown",
   "metadata": {},
   "source": [
    "# Note that this is *one seed's* scores; the paper reports the mean across all 5 seeds"
   ]
  },
  {
   "cell_type": "code",
   "execution_count": 167,
   "metadata": {},
   "outputs": [
    {
     "data": {
      "text/plain": [
       "(0.6751662971175166, 0.6904761904761905, 0.6827354260089686, None)"
      ]
     },
     "execution_count": 167,
     "metadata": {},
     "output_type": "execute_result"
    }
   ],
   "source": [
    "precision_recall_fscore_support(test_df2.label, test_df2.predicted, average='binary')"
   ]
  },
  {
   "cell_type": "markdown",
   "metadata": {},
   "source": [
    "## "
   ]
  },
  {
   "cell_type": "code",
   "execution_count": null,
   "metadata": {},
   "outputs": [],
   "source": []
  }
 ],
 "metadata": {
  "kernelspec": {
   "display_name": "Python 3",
   "language": "python",
   "name": "python3"
  },
  "language_info": {
   "codemirror_mode": {
    "name": "ipython",
    "version": 3
   },
   "file_extension": ".py",
   "mimetype": "text/x-python",
   "name": "python",
   "nbconvert_exporter": "python",
   "pygments_lexer": "ipython3",
   "version": "3.8.5"
  }
 },
 "nbformat": 4,
 "nbformat_minor": 5
}
