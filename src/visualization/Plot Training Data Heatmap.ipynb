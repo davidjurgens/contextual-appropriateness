{
 "cells": [
  {
   "cell_type": "code",
   "execution_count": 1,
   "metadata": {},
   "outputs": [],
   "source": [
    "import pandas as pd\n",
    "import numpy as np"
   ]
  },
  {
   "cell_type": "code",
   "execution_count": 2,
   "metadata": {},
   "outputs": [
    {
     "data": {
      "text/plain": [
       "9107"
      ]
     },
     "execution_count": 2,
     "metadata": {},
     "output_type": "execute_result"
    }
   ],
   "source": [
    "base_dir = '/shared/2/projects/contextual-appropriateness/data/final-annotated-data/'\n",
    "df = pd.read_csv(base_dir + 'train' + '.csv')\n",
    "len(df)"
   ]
  },
  {
   "cell_type": "code",
   "execution_count": 3,
   "metadata": {},
   "outputs": [
    {
     "data": {
      "text/plain": [
       "62"
      ]
     },
     "execution_count": 3,
     "metadata": {},
     "output_type": "execute_result"
    }
   ],
   "source": [
    "len(df.relationship.unique())"
   ]
  },
  {
   "cell_type": "code",
   "execution_count": 4,
   "metadata": {},
   "outputs": [],
   "source": [
    "df.loc[df['relationship'] == 'old friend', 'relationship'] = 'old_friend'\n",
    "df.loc[df['relationship'] == 'childhood friend', 'relationship'] = 'childhood_friend'\n",
    "df.loc[df['relationship'] == 'complete stranger', 'relationship'] = 'complete_stranger'\n",
    "df.loc[df['relationship'] == 'adopted child', 'relationship'] = 'adopted_child'\n",
    "df.loc[df['relationship'] == 'uncle_aunt', 'relationship'] = 'uncle/aunt'\n",
    "df.loc[df['relationship'] == 'employee in large company', 'relationship'] = 'employee_in_large_company'\n",
    "df.loc[df['relationship'] == 'friends with benefits', 'relationship'] = 'friends_with_benefits'\n",
    "df.loc[df['relationship'] == 'person having an affair', 'relationship'] = 'person_having_an_affair'\n",
    "df.loc[df['relationship'] == 'domestic partner', 'relationship'] = 'domestic_partner'\n",
    "df.loc[df['relationship'] == 'law enforcement', 'relationship'] = 'law_enforcement'\n",
    "df.loc[df['relationship'] == 'person with authority', 'relationship'] = 'person_with_authority'\n",
    "df.loc[df['relationship'] == 'sports teammate', 'relationship'] = 'sports_teammate'\n",
    "df.loc[df['relationship'] == 'club member', 'relationship'] = 'club_member'"
   ]
  },
  {
   "cell_type": "code",
   "execution_count": 5,
   "metadata": {},
   "outputs": [
    {
     "data": {
      "text/plain": [
       "9107"
      ]
     },
     "execution_count": 5,
     "metadata": {},
     "output_type": "execute_result"
    }
   ],
   "source": [
    "len(df)"
   ]
  },
  {
   "cell_type": "code",
   "execution_count": 6,
   "metadata": {},
   "outputs": [],
   "source": [
    "category_Friend = ['best_friend', 'neighbor','childhood_friend','friend','complete_stranger', 'acquaintance','old_friend',\n",
    "                   'old friend','childhood friend','complete stranger']\n",
    "category_Family = ['child', 'parent','adopted_child','grandparent', 'sibling','grandchild','step_sibling','neice_nephew',\n",
    "                   'cousins','uncle_aunt','adopted child', 'uncle/aunt']\n",
    "category_Work = ['colleague','employee_in_large_company','coworker','boss','direct_report','employee in large company']\n",
    "category_Enemy = ['competitor', 'rival', 'enemy']\n",
    "category_Romance= ['ex_dating','engaged','divorcee','friends_with_benefits','dating', 'person_having_an_affair', \n",
    "                   'domestic_partner','married','domestic partner','friends with benefits','person having an affair',\n",
    "                   ]\n",
    "category_SocialRoles = ['law_enforcement', 'mentee', 'teacher','doctor', 'person_with_authority', 'mentor', 'student',\n",
    "                        'lawyer', 'patient','client', 'landlord','person with authority','law enforcement']\n",
    "category_Teammates = ['classmate','sports_teammate','club_member','sports teammate','club member']\n",
    "category_Fan = ['fan','hero' ]\n"
   ]
  },
  {
   "cell_type": "code",
   "execution_count": 7,
   "metadata": {},
   "outputs": [],
   "source": [
    "#df=df[['quote','relationship','label']]\n",
    "newdf = df.drop_duplicates(\n",
    "  subset = ['quote','relationship','label'],\n",
    "  keep = 'first').reset_index(drop = True)"
   ]
  },
  {
   "cell_type": "code",
   "execution_count": 8,
   "metadata": {},
   "outputs": [],
   "source": [
    "df2 = newdf.pivot_table(index='quote', columns='relationship', values='label')"
   ]
  },
  {
   "cell_type": "code",
   "execution_count": 9,
   "metadata": {},
   "outputs": [
    {
     "data": {
      "text/html": [
       "<div>\n",
       "<style scoped>\n",
       "    .dataframe tbody tr th:only-of-type {\n",
       "        vertical-align: middle;\n",
       "    }\n",
       "\n",
       "    .dataframe tbody tr th {\n",
       "        vertical-align: top;\n",
       "    }\n",
       "\n",
       "    .dataframe thead th {\n",
       "        text-align: right;\n",
       "    }\n",
       "</style>\n",
       "<table border=\"1\" class=\"dataframe\">\n",
       "  <thead>\n",
       "    <tr style=\"text-align: right;\">\n",
       "      <th>relationship</th>\n",
       "      <th>acquaintance</th>\n",
       "      <th>adopted_child</th>\n",
       "      <th>best_friend</th>\n",
       "      <th>boss</th>\n",
       "      <th>child</th>\n",
       "      <th>childhood_friend</th>\n",
       "      <th>classmate</th>\n",
       "      <th>client</th>\n",
       "      <th>club_member</th>\n",
       "      <th>colleague</th>\n",
       "      <th>...</th>\n",
       "      <th>patient</th>\n",
       "      <th>person_having_an_affair</th>\n",
       "      <th>person_with_authority</th>\n",
       "      <th>rival</th>\n",
       "      <th>sibling</th>\n",
       "      <th>sports_teammate</th>\n",
       "      <th>step_sibling</th>\n",
       "      <th>student</th>\n",
       "      <th>teacher</th>\n",
       "      <th>uncle/aunt</th>\n",
       "    </tr>\n",
       "    <tr>\n",
       "      <th>quote</th>\n",
       "      <th></th>\n",
       "      <th></th>\n",
       "      <th></th>\n",
       "      <th></th>\n",
       "      <th></th>\n",
       "      <th></th>\n",
       "      <th></th>\n",
       "      <th></th>\n",
       "      <th></th>\n",
       "      <th></th>\n",
       "      <th></th>\n",
       "      <th></th>\n",
       "      <th></th>\n",
       "      <th></th>\n",
       "      <th></th>\n",
       "      <th></th>\n",
       "      <th></th>\n",
       "      <th></th>\n",
       "      <th></th>\n",
       "      <th></th>\n",
       "      <th></th>\n",
       "    </tr>\n",
       "  </thead>\n",
       "  <tbody>\n",
       "    <tr>\n",
       "      <th>Hope your day is as awesome as you are!</th>\n",
       "      <td>1.0</td>\n",
       "      <td>1.0</td>\n",
       "      <td>1.0</td>\n",
       "      <td>1.0</td>\n",
       "      <td>1.0</td>\n",
       "      <td>1.0</td>\n",
       "      <td>1.0</td>\n",
       "      <td>1.0</td>\n",
       "      <td>1.0</td>\n",
       "      <td>1.0</td>\n",
       "      <td>...</td>\n",
       "      <td>1.0</td>\n",
       "      <td>1.0</td>\n",
       "      <td>1.0</td>\n",
       "      <td>1.0</td>\n",
       "      <td>1.0</td>\n",
       "      <td>1.0</td>\n",
       "      <td>1.0</td>\n",
       "      <td>1.0</td>\n",
       "      <td>1.0</td>\n",
       "      <td>1.0</td>\n",
       "    </tr>\n",
       "  </tbody>\n",
       "</table>\n",
       "<p>1 rows × 49 columns</p>\n",
       "</div>"
      ],
      "text/plain": [
       "relationship                               acquaintance  adopted_child  \\\n",
       "quote                                                                    \n",
       " Hope your day is as awesome as you are!            1.0            1.0   \n",
       "\n",
       "relationship                               best_friend  boss  child  \\\n",
       "quote                                                                 \n",
       " Hope your day is as awesome as you are!           1.0   1.0    1.0   \n",
       "\n",
       "relationship                               childhood_friend  classmate  \\\n",
       "quote                                                                    \n",
       " Hope your day is as awesome as you are!                1.0        1.0   \n",
       "\n",
       "relationship                               client  club_member  colleague  \\\n",
       "quote                                                                       \n",
       " Hope your day is as awesome as you are!      1.0          1.0        1.0   \n",
       "\n",
       "relationship                               ...  patient  \\\n",
       "quote                                      ...            \n",
       " Hope your day is as awesome as you are!   ...      1.0   \n",
       "\n",
       "relationship                               person_having_an_affair  \\\n",
       "quote                                                                \n",
       " Hope your day is as awesome as you are!                       1.0   \n",
       "\n",
       "relationship                               person_with_authority  rival  \\\n",
       "quote                                                                     \n",
       " Hope your day is as awesome as you are!                     1.0    1.0   \n",
       "\n",
       "relationship                               sibling  sports_teammate  \\\n",
       "quote                                                                 \n",
       " Hope your day is as awesome as you are!       1.0              1.0   \n",
       "\n",
       "relationship                               step_sibling  student  teacher  \\\n",
       "quote                                                                       \n",
       " Hope your day is as awesome as you are!            1.0      1.0      1.0   \n",
       "\n",
       "relationship                               uncle/aunt  \n",
       "quote                                                  \n",
       " Hope your day is as awesome as you are!          1.0  \n",
       "\n",
       "[1 rows x 49 columns]"
      ]
     },
     "execution_count": 9,
     "metadata": {},
     "output_type": "execute_result"
    }
   ],
   "source": [
    "df2.head(n=1)"
   ]
  },
  {
   "cell_type": "code",
   "execution_count": 10,
   "metadata": {},
   "outputs": [],
   "source": [
    "import itertools\n",
    "key_list = list(df.relationship.unique())\n",
    "pair_order_list =[]\n",
    "for i in range(0,len(key_list)):\n",
    "    for j in range(0,len(key_list)):\n",
    "        pair_order_list.append((key_list[i],key_list[j]))"
   ]
  },
  {
   "cell_type": "code",
   "execution_count": 11,
   "metadata": {},
   "outputs": [],
   "source": [
    "tuple_list = []\n",
    "for each_tuple in pair_order_list:\n",
    "    rel1 = each_tuple[0]\n",
    "    rel2 = each_tuple[1]\n",
    "    #temp_df = main_df[[rel1, rel2]]\n",
    "    both_app = len(df2[(df2[rel1]==1)& (df2[rel2]==1)])\n",
    "    den = len(df2[(df2[rel1]==1)])\n",
    "    conditional_prob = both_app/den\n",
    "    tuple_list.append((rel1,rel2,conditional_prob))\n",
    "    \n",
    "heatmapdf = pd.DataFrame(tuple_list, columns=['rel1', 'rel2', 'prob'])"
   ]
  },
  {
   "cell_type": "code",
   "execution_count": 12,
   "metadata": {},
   "outputs": [],
   "source": [
    "heatmapdf.loc[heatmapdf['rel1'].isin(category_Friend), 'rel1_cat'] = 'friend'\n",
    "heatmapdf.loc[heatmapdf['rel1'].isin(category_Family), 'rel1_cat'] = 'family'\n",
    "heatmapdf.loc[heatmapdf['rel1'].isin(category_Work), 'rel1_cat'] = 'work'\n",
    "heatmapdf.loc[heatmapdf['rel1'].isin(category_Enemy), 'rel1_cat'] = 'enemy'\n",
    "heatmapdf.loc[heatmapdf['rel1'].isin(category_Romance), 'rel1_cat'] = 'romance'\n",
    "heatmapdf.loc[heatmapdf['rel1'].isin(category_SocialRoles), 'rel1_cat'] = 'socialRole'\n",
    "heatmapdf.loc[heatmapdf['rel1'].isin(category_Teammates), 'rel1_cat'] = 'teammates'\n",
    "heatmapdf.loc[heatmapdf['rel1'].isin(category_Fan), 'rel1_cat'] = 'fan'\n",
    "\n",
    "heatmapdf.loc[heatmapdf['rel2'].isin(category_Friend), 'rel2_cat'] = 'friend'\n",
    "heatmapdf.loc[heatmapdf['rel2'].isin(category_Family), 'rel2_cat'] = 'family'\n",
    "heatmapdf.loc[heatmapdf['rel2'].isin(category_Work), 'rel2_cat'] = 'work'\n",
    "heatmapdf.loc[heatmapdf['rel2'].isin(category_Enemy), 'rel2_cat'] = 'enemy'\n",
    "heatmapdf.loc[heatmapdf['rel2'].isin(category_Romance), 'rel2_cat'] = 'romance'\n",
    "heatmapdf.loc[heatmapdf['rel2'].isin(category_SocialRoles), 'rel2_cat'] = 'socialRole'\n",
    "heatmapdf.loc[heatmapdf['rel2'].isin(category_Teammates), 'rel2_cat'] = 'teammates'\n",
    "heatmapdf.loc[heatmapdf['rel2'].isin(category_Fan), 'rel2_cat'] = 'fan'\n"
   ]
  },
  {
   "cell_type": "code",
   "execution_count": 13,
   "metadata": {},
   "outputs": [
    {
     "data": {
      "text/plain": [
       "['enemy',\n",
       " 'family',\n",
       " 'fan',\n",
       " 'friend',\n",
       " 'romance',\n",
       " 'socialRole',\n",
       " 'teammates',\n",
       " 'work']"
      ]
     },
     "execution_count": 13,
     "metadata": {},
     "output_type": "execute_result"
    }
   ],
   "source": [
    "sorted(heatmapdf.rel1_cat.unique())"
   ]
  },
  {
   "cell_type": "code",
   "execution_count": 126,
   "metadata": {},
   "outputs": [
    {
     "name": "stdout",
     "output_type": "stream",
     "text": [
      "['neice_nephew', 'adopted_child', 'grandchild', 'child', 'uncle/aunt', 'grandparent', 'cousins', 'step_sibling', 'sibling', 'parent', 'acquaintance', 'complete_stranger', 'neighbor', 'childhood_friend', 'old_friend', 'friend', 'best_friend', 'person_having_an_affair', 'domestic_partner', 'divorcee', 'ex_dating', 'friends_with_benefits', 'engaged', 'dating', 'married', 'direct_report', 'employee_in_large_company', 'boss', 'colleague', 'coworker', 'club_member', 'classmate', 'sports_teammate', 'fan', 'hero', 'landlord', 'patient', 'client', 'person_with_authority', 'lawyer', 'law_enforcement', 'student', 'mentee', 'doctor', 'teacher', 'mentor', 'rival', 'competitor', 'enemy']\n"
     ]
    }
   ],
   "source": [
    "orders=[]\n",
    "#for cat in sorted(heatmapdf.rel1_cat.unique()):\n",
    "for cat in ['family','friend','romance','work','teammates','fan','socialRole','enemy']:\n",
    "    df3_orig=heatmapdf[(heatmapdf.rel1_cat==cat)&(heatmapdf.rel2_cat==cat)]\n",
    "    df31=df3_orig[['rel1','prob']]\n",
    "    #df32=df3_orig[['rel2','prob']]\n",
    "    df31.columns=['rel','prob']\n",
    "    #df32.columns=['rel','prob']\n",
    "    #df3_concat=pd.concat([df31,df32],axis=0)\n",
    "    #df3=df3_concat.groupby(['rel']).mean().reset_index().sort_values(by=['prob'],ascending=False)\n",
    "    df3=df31.groupby(['rel']).mean().reset_index().sort_values(by=['prob'],ascending=False)\n",
    "    orders.extend(list(df3.rel))\n",
    "\n",
    "print(orders)\n",
    "\n",
    "# get full data for heatmap\n",
    "out=[]\n",
    "for rel1 in orders:\n",
    "    line_out=[]\n",
    "    for rel2 in orders:\n",
    "        val=heatmapdf[(heatmapdf.rel1==rel1)&(heatmapdf.rel2==rel2)]['prob']\n",
    "        line_out.append(float(val))\n",
    "        #print(rel1, rel2,float(val))\n",
    "    out.append(line_out)"
   ]
  },
  {
   "cell_type": "code",
   "execution_count": 121,
   "metadata": {},
   "outputs": [
    {
     "data": {
      "text/html": [
       "<div>\n",
       "<style scoped>\n",
       "    .dataframe tbody tr th:only-of-type {\n",
       "        vertical-align: middle;\n",
       "    }\n",
       "\n",
       "    .dataframe tbody tr th {\n",
       "        vertical-align: top;\n",
       "    }\n",
       "\n",
       "    .dataframe thead th {\n",
       "        text-align: right;\n",
       "    }\n",
       "</style>\n",
       "<table border=\"1\" class=\"dataframe\">\n",
       "  <thead>\n",
       "    <tr style=\"text-align: right;\">\n",
       "      <th></th>\n",
       "      <th>rel</th>\n",
       "      <th>prob</th>\n",
       "    </tr>\n",
       "  </thead>\n",
       "  <tbody>\n",
       "    <tr>\n",
       "      <th>7</th>\n",
       "      <td>sibling</td>\n",
       "      <td>0.863401</td>\n",
       "    </tr>\n",
       "    <tr>\n",
       "      <th>2</th>\n",
       "      <td>cousins</td>\n",
       "      <td>0.823216</td>\n",
       "    </tr>\n",
       "    <tr>\n",
       "      <th>8</th>\n",
       "      <td>step_sibling</td>\n",
       "      <td>0.819557</td>\n",
       "    </tr>\n",
       "    <tr>\n",
       "      <th>6</th>\n",
       "      <td>parent</td>\n",
       "      <td>0.818188</td>\n",
       "    </tr>\n",
       "    <tr>\n",
       "      <th>9</th>\n",
       "      <td>uncle/aunt</td>\n",
       "      <td>0.753131</td>\n",
       "    </tr>\n",
       "    <tr>\n",
       "      <th>4</th>\n",
       "      <td>grandparent</td>\n",
       "      <td>0.719047</td>\n",
       "    </tr>\n",
       "    <tr>\n",
       "      <th>0</th>\n",
       "      <td>adopted_child</td>\n",
       "      <td>0.658995</td>\n",
       "    </tr>\n",
       "    <tr>\n",
       "      <th>3</th>\n",
       "      <td>grandchild</td>\n",
       "      <td>0.656745</td>\n",
       "    </tr>\n",
       "    <tr>\n",
       "      <th>1</th>\n",
       "      <td>child</td>\n",
       "      <td>0.568504</td>\n",
       "    </tr>\n",
       "    <tr>\n",
       "      <th>5</th>\n",
       "      <td>neice_nephew</td>\n",
       "      <td>0.465469</td>\n",
       "    </tr>\n",
       "  </tbody>\n",
       "</table>\n",
       "</div>"
      ],
      "text/plain": [
       "             rel      prob\n",
       "7        sibling  0.863401\n",
       "2        cousins  0.823216\n",
       "8   step_sibling  0.819557\n",
       "6         parent  0.818188\n",
       "9     uncle/aunt  0.753131\n",
       "4    grandparent  0.719047\n",
       "0  adopted_child  0.658995\n",
       "3     grandchild  0.656745\n",
       "1          child  0.568504\n",
       "5   neice_nephew  0.465469"
      ]
     },
     "execution_count": 121,
     "metadata": {},
     "output_type": "execute_result"
    }
   ],
   "source": [
    "['sibling', 'cousins', 'step_sibling', 'parent', 'uncle/aunt', 'grandparent', 'adopted_child', 'grandchild', 'child', 'neice_nephew']"
   ]
  },
  {
   "cell_type": "code",
   "execution_count": 127,
   "metadata": {},
   "outputs": [
    {
     "data": {
      "text/html": [
       "<div>\n",
       "<style scoped>\n",
       "    .dataframe tbody tr th:only-of-type {\n",
       "        vertical-align: middle;\n",
       "    }\n",
       "\n",
       "    .dataframe tbody tr th {\n",
       "        vertical-align: top;\n",
       "    }\n",
       "\n",
       "    .dataframe thead th {\n",
       "        text-align: right;\n",
       "    }\n",
       "</style>\n",
       "<table border=\"1\" class=\"dataframe\">\n",
       "  <thead>\n",
       "    <tr style=\"text-align: right;\">\n",
       "      <th></th>\n",
       "      <th>rel</th>\n",
       "      <th>prob</th>\n",
       "    </tr>\n",
       "  </thead>\n",
       "  <tbody>\n",
       "    <tr>\n",
       "      <th>2</th>\n",
       "      <td>rival</td>\n",
       "      <td>0.929825</td>\n",
       "    </tr>\n",
       "    <tr>\n",
       "      <th>0</th>\n",
       "      <td>competitor</td>\n",
       "      <td>0.873563</td>\n",
       "    </tr>\n",
       "    <tr>\n",
       "      <th>1</th>\n",
       "      <td>enemy</td>\n",
       "      <td>0.860215</td>\n",
       "    </tr>\n",
       "  </tbody>\n",
       "</table>\n",
       "</div>"
      ],
      "text/plain": [
       "          rel      prob\n",
       "2       rival  0.929825\n",
       "0  competitor  0.873563\n",
       "1       enemy  0.860215"
      ]
     },
     "execution_count": 127,
     "metadata": {},
     "output_type": "execute_result"
    }
   ],
   "source": [
    "df3"
   ]
  },
  {
   "cell_type": "code",
   "execution_count": 114,
   "metadata": {},
   "outputs": [
    {
     "data": {
      "text/html": [
       "<div>\n",
       "<style scoped>\n",
       "    .dataframe tbody tr th:only-of-type {\n",
       "        vertical-align: middle;\n",
       "    }\n",
       "\n",
       "    .dataframe tbody tr th {\n",
       "        vertical-align: top;\n",
       "    }\n",
       "\n",
       "    .dataframe thead th {\n",
       "        text-align: right;\n",
       "    }\n",
       "</style>\n",
       "<table border=\"1\" class=\"dataframe\">\n",
       "  <thead>\n",
       "    <tr style=\"text-align: right;\">\n",
       "      <th></th>\n",
       "      <th>rel1</th>\n",
       "      <th>rel2</th>\n",
       "      <th>prob</th>\n",
       "      <th>rel1_cat</th>\n",
       "      <th>rel2_cat</th>\n",
       "    </tr>\n",
       "  </thead>\n",
       "  <tbody>\n",
       "    <tr>\n",
       "      <th>0</th>\n",
       "      <td>ex_dating</td>\n",
       "      <td>ex_dating</td>\n",
       "      <td>1.000000</td>\n",
       "      <td>romance</td>\n",
       "      <td>romance</td>\n",
       "    </tr>\n",
       "    <tr>\n",
       "      <th>1</th>\n",
       "      <td>ex_dating</td>\n",
       "      <td>colleague</td>\n",
       "      <td>0.493827</td>\n",
       "      <td>romance</td>\n",
       "      <td>work</td>\n",
       "    </tr>\n",
       "    <tr>\n",
       "      <th>2</th>\n",
       "      <td>ex_dating</td>\n",
       "      <td>engaged</td>\n",
       "      <td>0.820988</td>\n",
       "      <td>romance</td>\n",
       "      <td>romance</td>\n",
       "    </tr>\n",
       "    <tr>\n",
       "      <th>3</th>\n",
       "      <td>ex_dating</td>\n",
       "      <td>best_friend</td>\n",
       "      <td>0.851852</td>\n",
       "      <td>romance</td>\n",
       "      <td>friend</td>\n",
       "    </tr>\n",
       "    <tr>\n",
       "      <th>4</th>\n",
       "      <td>ex_dating</td>\n",
       "      <td>neighbor</td>\n",
       "      <td>0.500000</td>\n",
       "      <td>romance</td>\n",
       "      <td>friend</td>\n",
       "    </tr>\n",
       "    <tr>\n",
       "      <th>...</th>\n",
       "      <td>...</td>\n",
       "      <td>...</td>\n",
       "      <td>...</td>\n",
       "      <td>...</td>\n",
       "      <td>...</td>\n",
       "    </tr>\n",
       "    <tr>\n",
       "      <th>2396</th>\n",
       "      <td>hero</td>\n",
       "      <td>landlord</td>\n",
       "      <td>0.724138</td>\n",
       "      <td>fan</td>\n",
       "      <td>socialRole</td>\n",
       "    </tr>\n",
       "    <tr>\n",
       "      <th>2397</th>\n",
       "      <td>hero</td>\n",
       "      <td>rival</td>\n",
       "      <td>0.517241</td>\n",
       "      <td>fan</td>\n",
       "      <td>enemy</td>\n",
       "    </tr>\n",
       "    <tr>\n",
       "      <th>2398</th>\n",
       "      <td>hero</td>\n",
       "      <td>enemy</td>\n",
       "      <td>0.517241</td>\n",
       "      <td>fan</td>\n",
       "      <td>enemy</td>\n",
       "    </tr>\n",
       "    <tr>\n",
       "      <th>2399</th>\n",
       "      <td>hero</td>\n",
       "      <td>fan</td>\n",
       "      <td>0.862069</td>\n",
       "      <td>fan</td>\n",
       "      <td>fan</td>\n",
       "    </tr>\n",
       "    <tr>\n",
       "      <th>2400</th>\n",
       "      <td>hero</td>\n",
       "      <td>hero</td>\n",
       "      <td>1.000000</td>\n",
       "      <td>fan</td>\n",
       "      <td>fan</td>\n",
       "    </tr>\n",
       "  </tbody>\n",
       "</table>\n",
       "<p>2401 rows × 5 columns</p>\n",
       "</div>"
      ],
      "text/plain": [
       "           rel1         rel2      prob rel1_cat    rel2_cat\n",
       "0     ex_dating    ex_dating  1.000000  romance     romance\n",
       "1     ex_dating    colleague  0.493827  romance        work\n",
       "2     ex_dating      engaged  0.820988  romance     romance\n",
       "3     ex_dating  best_friend  0.851852  romance      friend\n",
       "4     ex_dating     neighbor  0.500000  romance      friend\n",
       "...         ...          ...       ...      ...         ...\n",
       "2396       hero     landlord  0.724138      fan  socialRole\n",
       "2397       hero        rival  0.517241      fan       enemy\n",
       "2398       hero        enemy  0.517241      fan       enemy\n",
       "2399       hero          fan  0.862069      fan         fan\n",
       "2400       hero         hero  1.000000      fan         fan\n",
       "\n",
       "[2401 rows x 5 columns]"
      ]
     },
     "execution_count": 114,
     "metadata": {},
     "output_type": "execute_result"
    }
   ],
   "source": [
    "heatmapdf"
   ]
  },
  {
   "cell_type": "code",
   "execution_count": 148,
   "metadata": {
    "scrolled": false
   },
   "outputs": [
    {
     "data": {
      "image/png": "[encoded data removed]",
      "text/plain": [
       "<Figure size 468x381.6 with 2 Axes>"
      ]
     },
     "metadata": {
      "needs_background": "light"
     },
     "output_type": "display_data"
    }
   ],
   "source": [
    "import seaborn as sns\n",
    "import matplotlib.pyplot as plt\n",
    "arr=np.array(out)\n",
    "#arr=np.abs(arr)\n",
    "plt.figure(figsize=(6.5,5.3))\n",
    "#plt.figure(figsize=(6,6))\n",
    "#plt.figure(figsize=(14, 14))\n",
    "sns.color_palette(\"mako\", as_cmap=True)\n",
    "p=sns.heatmap(\n",
    "    data=arr,\n",
    "    #cmap=\"rocket_r\",\n",
    "    #cmap=\"vlag\",\n",
    "    cmap = \"mako\",\n",
    "    vmax=1.0,\n",
    "#     vmin=-1.0\n",
    "    vmin=0,\n",
    "#     xticklabels=False,\n",
    "#     yticklabels=False\n",
    ")\n",
    "\n",
    "\n",
    "p.axis('off')\n",
    "#lines=[3,13,15,22,30,42,44,]\n",
    "lines=[10,17,25,30,33,35,46]\n",
    "# p.tick_params(left=False,bottom=False)\n",
    "#old\n",
    "# p.hlines(lines, *p.get_xlim(), color='green')\n",
    "# p.vlines(lines, *p.get_ylim(), color='green')\n",
    "# p.text(-4,2, 'Rivals',fontsize=13, horizontalalignment='right') #R, up\n",
    "# p.text(-4,8, 'Family',fontsize=13, horizontalalignment='right')\n",
    "# p.text(-4,15, 'Hero',fontsize=13, horizontalalignment='right')\n",
    "# p.text(-4,19, 'Friend',fontsize=13, horizontalalignment='right')\n",
    "# p.text(-4,27, 'Romance',fontsize=13, horizontalalignment='right')\n",
    "# p.text(-4,37, 'Social Role',fontsize=13, horizontalalignment='right')\n",
    "# p.text(-4,43.5, 'Teammate',fontsize=13, horizontalalignment='right')\n",
    "# p.text(-4,48, 'Work',fontsize=13, horizontalalignment='right')\n",
    "\n",
    "# p.text(3,54, 'Rivals',fontsize=13,rotation=45,horizontalalignment='right',verticalalignment='top') #L, up\n",
    "# p.text(10,54, 'Family',fontsize=13,rotation=45,horizontalalignment='right',verticalalignment='top')\n",
    "# p.text(15,54, 'Hero',fontsize=13,rotation=45,horizontalalignment='right',verticalalignment='top')\n",
    "# p.text(19,54, 'Friend',fontsize=13,rotation=45,horizontalalignment='right',verticalalignment='top')\n",
    "# p.text(28,54, 'Romance',fontsize=13,rotation=45,horizontalalignment='right',verticalalignment='top')\n",
    "# p.text(37,54, 'Social Role',fontsize=13,rotation=45,horizontalalignment='right',verticalalignment='top')\n",
    "# p.text(45,54, 'Teammate',fontsize=13,rotation=45,horizontalalignment='right',verticalalignment='top')\n",
    "# p.text(49,54, 'Work',fontsize=13,rotation=45,horizontalalignment='right',verticalalignment='top')\n",
    "\n",
    "#new 'family','friend','romance','work','teammates','fan','socialRole','enemy'\n",
    "p.hlines(lines, *p.get_xlim(), color='orange')\n",
    "p.vlines(lines, *p.get_ylim(), color='orange')\n",
    "p.text(-1,6, 'Family',fontsize=13, horizontalalignment='right') #R, up\n",
    "p.text(-1,13, 'Social',fontsize=13, horizontalalignment='right')\n",
    "p.text(-1,20, 'Romance',fontsize=13, horizontalalignment='right')\n",
    "p.text(-1,28, 'Organizational',fontsize=13, horizontalalignment='right')\n",
    "p.text(-1,32, 'Peer group',fontsize=13, horizontalalignment='right')\n",
    "p.text(-1,35, 'Parasocial',fontsize=13, horizontalalignment='right')\n",
    "p.text(-1,40, 'Role-Based',fontsize=13, horizontalalignment='right')\n",
    "p.text(-1,48, 'Antagonist',fontsize=13, horizontalalignment='right')\n",
    "\n",
    "p.text(8,50, 'Family',fontsize=13,rotation=47,horizontalalignment='right',verticalalignment='top') #L, up\n",
    "p.text(15,50, 'Social',fontsize=13,rotation=47,horizontalalignment='right',verticalalignment='top')\n",
    "p.text(21,50, 'Romance',fontsize=13,rotation=47,horizontalalignment='right',verticalalignment='top')\n",
    "p.text(28,50, 'Organizational',fontsize=13,rotation=47,horizontalalignment='right',verticalalignment='top')\n",
    "p.text(32.5,50, 'Peer group',fontsize=13,rotation=47,horizontalalignment='right',verticalalignment='top')\n",
    "p.text(36,50, 'Parasocial',fontsize=13,rotation=47,horizontalalignment='right',verticalalignment='top')\n",
    "p.text(43,50, 'Role-Based',fontsize=13,rotation=47,horizontalalignment='right',verticalalignment='top')\n",
    "p.text(49,50, 'Antagonist',fontsize=13,rotation=47,horizontalalignment='right',verticalalignment='top')\n",
    "\n",
    "plt.tight_layout()\n",
    "plt.savefig('/shared/3/projects/agrimaTwitter/heatmap-sorted.pdf',\n",
    "           bbox_inches='tight', pad_inches=0.0)"
   ]
  },
  {
   "cell_type": "code",
   "execution_count": 61,
   "metadata": {},
   "outputs": [],
   "source": [
    "# import seaborn as sns\n",
    "# import matplotlib.pyplot as plt\n",
    "\n",
    "# piv = pd.pivot_table(heatmapdf, values=\"prob\",index=[\"rel1\"], columns=[\"rel2\"])\n",
    "# plt.figure(figsize=(14, 14))\n",
    "# ax = sns.heatmap(piv)\n",
    "# figure = ax.get_figure() "
   ]
  },
  {
   "cell_type": "code",
   "execution_count": 9,
   "metadata": {},
   "outputs": [],
   "source": [
    "#duplicate = newdf[newdf.duplicated(['quote','relationship','label'])]"
   ]
  }
 ],
 "metadata": {
  "kernelspec": {
   "display_name": "Python 3",
   "language": "python",
   "name": "python3"
  },
  "language_info": {
   "codemirror_mode": {
    "name": "ipython",
    "version": 3
   },
   "file_extension": ".py",
   "mimetype": "text/x-python",
   "name": "python",
   "nbconvert_exporter": "python",
   "pygments_lexer": "ipython3",
   "version": "3.8.5"
  }
 },
 "nbformat": 4,
 "nbformat_minor": 5
}
