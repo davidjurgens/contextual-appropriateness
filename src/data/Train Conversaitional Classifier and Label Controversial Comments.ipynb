{
 "cells": [
  {
   "cell_type": "markdown",
   "metadata": {},
   "source": [
    "# Notes\n",
    "\n",
    "This was used to sample data for Phase 2 of the annotation process by finding \"conversation-like\" comments from Reddit that were also rated as controversial by Reddit users. The latter condition was used to hopefully find more comments that elicit contextual inappropriateness, but the annotators ultimately decide those."
   ]
  },
  {
   "cell_type": "code",
   "execution_count": 1,
   "metadata": {},
   "outputs": [],
   "source": [
    "import pandas as pd\n",
    "#import datasets\n",
    "from transformers import RobertaTokenizerFast, RobertaForSequenceClassification,Trainer, TrainingArguments\n",
    "import torch.nn as nn\n",
    "import torch\n",
    "from datasets import Dataset, DatasetDict\n",
    "import numpy as np\n",
    "from sklearn.metrics import accuracy_score, precision_recall_fscore_support\n",
    "from tqdm import tqdm\n",
    "import wandb\n",
    "import os\n",
    "from collections import Counter\n",
    "import evaluate\n",
    "from transformers import AutoTokenizer\n",
    "from transformers import DataCollatorWithPadding\n",
    "from transformers import AutoModelForSequenceClassification, TrainingArguments, Trainer\n",
    "\n",
    "\n",
    "os.environ[\"WANDB_DISABLED\"] = \"true\"\n",
    "os.environ[\"CUDA_DEVICE_ORDER\"]=\"PCI_BUS_ID\"   # replace the 0 with other gpu ids\n",
    "os.environ[\"CUDA_VISIBLE_DEVICES\"]=\"0\""
   ]
  },
  {
   "cell_type": "markdown",
   "metadata": {},
   "source": [
    "# Load in the dataset for recognizing Conversational comments\n",
    "(See paper for details)"
   ]
  },
  {
   "cell_type": "code",
   "execution_count": 2,
   "metadata": {},
   "outputs": [],
   "source": [
    "directory = '/shared/2/projects/contextual-appropriateness/data/conversational/'"
   ]
  },
  {
   "cell_type": "code",
   "execution_count": 3,
   "metadata": {},
   "outputs": [
    {
     "data": {
      "text/plain": [
       "(593710, 74212)"
      ]
     },
     "execution_count": 3,
     "metadata": {},
     "output_type": "execute_result"
    }
   ],
   "source": [
    "train_df = pd.read_csv(directory+'train_data_all.tsv',sep = '\\t').dropna()\n",
    "dev_df = pd.read_csv(directory+'dev_data.tsv',sep='\\t').dropna()\n",
    "len(train_df), len(dev_df)"
   ]
  },
  {
   "cell_type": "code",
   "execution_count": 4,
   "metadata": {},
   "outputs": [
    {
     "data": {
      "text/html": [
       "<div>\n",
       "<style scoped>\n",
       "    .dataframe tbody tr th:only-of-type {\n",
       "        vertical-align: middle;\n",
       "    }\n",
       "\n",
       "    .dataframe tbody tr th {\n",
       "        vertical-align: top;\n",
       "    }\n",
       "\n",
       "    .dataframe thead th {\n",
       "        text-align: right;\n",
       "    }\n",
       "</style>\n",
       "<table border=\"1\" class=\"dataframe\">\n",
       "  <thead>\n",
       "    <tr style=\"text-align: right;\">\n",
       "      <th></th>\n",
       "      <th>text</th>\n",
       "      <th>label</th>\n",
       "      <th>origin</th>\n",
       "    </tr>\n",
       "  </thead>\n",
       "  <tbody>\n",
       "    <tr>\n",
       "      <th>0</th>\n",
       "      <td>They do not!</td>\n",
       "      <td>1</td>\n",
       "      <td>movies</td>\n",
       "    </tr>\n",
       "    <tr>\n",
       "      <th>1</th>\n",
       "      <td>They do to!</td>\n",
       "      <td>1</td>\n",
       "      <td>movies</td>\n",
       "    </tr>\n",
       "    <tr>\n",
       "      <th>2</th>\n",
       "      <td>I hope so.</td>\n",
       "      <td>1</td>\n",
       "      <td>movies</td>\n",
       "    </tr>\n",
       "    <tr>\n",
       "      <th>3</th>\n",
       "      <td>She okay?</td>\n",
       "      <td>1</td>\n",
       "      <td>movies</td>\n",
       "    </tr>\n",
       "    <tr>\n",
       "      <th>4</th>\n",
       "      <td>Let's go.</td>\n",
       "      <td>1</td>\n",
       "      <td>movies</td>\n",
       "    </tr>\n",
       "  </tbody>\n",
       "</table>\n",
       "</div>"
      ],
      "text/plain": [
       "            text  label  origin\n",
       "0   They do not!      1  movies\n",
       "1    They do to!      1  movies\n",
       "2     I hope so.      1  movies\n",
       "3      She okay?      1  movies\n",
       "4      Let's go.      1  movies"
      ]
     },
     "execution_count": 4,
     "metadata": {},
     "output_type": "execute_result"
    }
   ],
   "source": [
    "train_df.label = train_df.label.apply(int)\n",
    "dev_df.label = dev_df.label.apply(int)\n",
    "train_df.head()"
   ]
  },
  {
   "cell_type": "code",
   "execution_count": 5,
   "metadata": {},
   "outputs": [
    {
     "data": {
      "text/plain": [
       "Counter({1: 296856, 0: 296854})"
      ]
     },
     "execution_count": 5,
     "metadata": {},
     "output_type": "execute_result"
    }
   ],
   "source": [
    "Counter(train_df.label)"
   ]
  },
  {
   "cell_type": "code",
   "execution_count": 6,
   "metadata": {},
   "outputs": [
    {
     "data": {
      "text/plain": [
       "Counter({'movies': 225907, 'empathetic-dialog': 70949, 'reddit': 296854})"
      ]
     },
     "execution_count": 6,
     "metadata": {},
     "output_type": "execute_result"
    }
   ],
   "source": [
    "Counter(train_df.origin)"
   ]
  },
  {
   "cell_type": "code",
   "execution_count": 7,
   "metadata": {},
   "outputs": [
    {
     "data": {
      "text/plain": [
       "Counter({'movies': 28238, 'empathetic-dialog': 8868, 'reddit': 37106})"
      ]
     },
     "execution_count": 7,
     "metadata": {},
     "output_type": "execute_result"
    }
   ],
   "source": [
    "Counter(dev_df.origin)"
   ]
  },
  {
   "cell_type": "code",
   "execution_count": 8,
   "metadata": {},
   "outputs": [
    {
     "data": {
      "text/plain": [
       "74212"
      ]
     },
     "execution_count": 8,
     "metadata": {},
     "output_type": "execute_result"
    }
   ],
   "source": [
    "len(dev_df)"
   ]
  },
  {
   "cell_type": "code",
   "execution_count": 8,
   "metadata": {},
   "outputs": [
    {
     "data": {
      "text/plain": [
       "DatasetDict({\n",
       "    train: Dataset({\n",
       "        features: ['text', 'label', 'origin', '__index_level_0__'],\n",
       "        num_rows: 593710\n",
       "    })\n",
       "    validation: Dataset({\n",
       "        features: ['text', 'label', 'origin', '__index_level_0__'],\n",
       "        num_rows: 74212\n",
       "    })\n",
       "})"
      ]
     },
     "execution_count": 8,
     "metadata": {},
     "output_type": "execute_result"
    }
   ],
   "source": [
    "tds = Dataset.from_pandas(train_df)\n",
    "vds = Dataset.from_pandas(dev_df)\n",
    "\n",
    "ds = DatasetDict()\n",
    "\n",
    "ds['train'] = tds\n",
    "ds['validation'] = vds\n",
    "ds"
   ]
  },
  {
   "cell_type": "code",
   "execution_count": 9,
   "metadata": {},
   "outputs": [
    {
     "data": {
      "text/plain": [
       "{'text': \" I'm here.  That's all that counts. Watch... you'll enjoy this... it's like magic...\",\n",
       " 'label': 1,\n",
       " 'origin': 'movies',\n",
       " '__index_level_0__': 0}"
      ]
     },
     "execution_count": 9,
     "metadata": {},
     "output_type": "execute_result"
    }
   ],
   "source": [
    "ds['validation'][0]"
   ]
  },
  {
   "cell_type": "code",
   "execution_count": 11,
   "metadata": {},
   "outputs": [],
   "source": [
    "tokenizer = AutoTokenizer.from_pretrained(\"microsoft/MiniLM-L12-H384-uncased\")"
   ]
  },
  {
   "cell_type": "code",
   "execution_count": 12,
   "metadata": {},
   "outputs": [],
   "source": [
    "def preprocess_function(examples):\n",
    "    return tokenizer(examples[\"text\"], truncation=True, max_length=512)"
   ]
  },
  {
   "cell_type": "code",
   "execution_count": 13,
   "metadata": {},
   "outputs": [
    {
     "data": {
      "application/vnd.jupyter.widget-view+json": {
       "model_id": "",
       "version_major": 2,
       "version_minor": 0
      },
      "text/plain": [
       "Map:   0%|          | 0/593710 [00:00<?, ? examples/s]"
      ]
     },
     "metadata": {},
     "output_type": "display_data"
    },
    {
     "data": {
      "application/vnd.jupyter.widget-view+json": {
       "model_id": "",
       "version_major": 2,
       "version_minor": 0
      },
      "text/plain": [
       "Map:   0%|          | 0/74212 [00:00<?, ? examples/s]"
      ]
     },
     "metadata": {},
     "output_type": "display_data"
    }
   ],
   "source": [
    "tokenized_ds = ds.map(preprocess_function, batched=True)"
   ]
  },
  {
   "cell_type": "code",
   "execution_count": 14,
   "metadata": {},
   "outputs": [],
   "source": [
    "data_collator = DataCollatorWithPadding(tokenizer=tokenizer)"
   ]
  },
  {
   "cell_type": "code",
   "execution_count": null,
   "metadata": {},
   "outputs": [
    {
     "name": "stderr",
     "output_type": "stream",
     "text": [
      "Some weights of BertForSequenceClassification were not initialized from the model checkpoint at microsoft/MiniLM-L12-H384-uncased and are newly initialized: ['classifier.bias', 'classifier.weight']\n",
      "You should probably TRAIN this model on a down-stream task to be able to use it for predictions and inference.\n",
      "Using the `WANDB_DISABLED` environment variable is deprecated and will be removed in v5. Use the --report_to flag to control the integrations used for logging result (for instance --report_to none).\n"
     ]
    },
    {
     "data": {
      "text/html": [
       "\n",
       "    <div>\n",
       "      \n",
       "      <progress value='8134' max='8246' style='width:300px; height:20px; vertical-align: middle;'></progress>\n",
       "      [8134/8246 39:19 < 00:32, 3.45 it/s, Epoch 0.99/1]\n",
       "    </div>\n",
       "    <table border=\"1\" class=\"dataframe\">\n",
       "  <thead>\n",
       " <tr style=\"text-align: left;\">\n",
       "      <th>Step</th>\n",
       "      <th>Training Loss</th>\n",
       "    </tr>\n",
       "  </thead>\n",
       "  <tbody>\n",
       "    <tr>\n",
       "      <td>500</td>\n",
       "      <td>0.310400</td>\n",
       "    </tr>\n",
       "    <tr>\n",
       "      <td>1000</td>\n",
       "      <td>0.218300</td>\n",
       "    </tr>\n",
       "    <tr>\n",
       "      <td>1500</td>\n",
       "      <td>0.203800</td>\n",
       "    </tr>\n",
       "    <tr>\n",
       "      <td>2000</td>\n",
       "      <td>0.198400</td>\n",
       "    </tr>\n",
       "    <tr>\n",
       "      <td>2500</td>\n",
       "      <td>0.191200</td>\n",
       "    </tr>\n",
       "    <tr>\n",
       "      <td>3000</td>\n",
       "      <td>0.183200</td>\n",
       "    </tr>\n",
       "    <tr>\n",
       "      <td>3500</td>\n",
       "      <td>0.188300</td>\n",
       "    </tr>\n",
       "    <tr>\n",
       "      <td>4000</td>\n",
       "      <td>0.181200</td>\n",
       "    </tr>\n",
       "    <tr>\n",
       "      <td>4500</td>\n",
       "      <td>0.177600</td>\n",
       "    </tr>\n",
       "    <tr>\n",
       "      <td>5000</td>\n",
       "      <td>0.172700</td>\n",
       "    </tr>\n",
       "    <tr>\n",
       "      <td>5500</td>\n",
       "      <td>0.175700</td>\n",
       "    </tr>\n",
       "    <tr>\n",
       "      <td>6000</td>\n",
       "      <td>0.165900</td>\n",
       "    </tr>\n",
       "    <tr>\n",
       "      <td>6500</td>\n",
       "      <td>0.172800</td>\n",
       "    </tr>\n",
       "    <tr>\n",
       "      <td>7000</td>\n",
       "      <td>0.171100</td>\n",
       "    </tr>\n",
       "    <tr>\n",
       "      <td>7500</td>\n",
       "      <td>0.170000</td>\n",
       "    </tr>\n",
       "    <tr>\n",
       "      <td>8000</td>\n",
       "      <td>0.161400</td>\n",
       "    </tr>\n",
       "  </tbody>\n",
       "</table><p>"
      ],
      "text/plain": [
       "<IPython.core.display.HTML object>"
      ]
     },
     "metadata": {},
     "output_type": "display_data"
    }
   ],
   "source": [
    "output_dir = '/shared/2/projects/contextual-appropriateness/models/conversational/'\n",
    "\n",
    "model = AutoModelForSequenceClassification.from_pretrained(\"microsoft/MiniLM-L12-H384-uncased\", num_labels=2)\n",
    "\n",
    "training_args = TrainingArguments(\n",
    "    output_dir=output_dir,\n",
    "    overwrite_output_dir=True,\n",
    "    learning_rate=2e-5,\n",
    "    per_device_train_batch_size=72,\n",
    "    per_device_eval_batch_size=128,\n",
    "    num_train_epochs=1,\n",
    "    weight_decay=0.01,\n",
    "    do_eval=True,\n",
    "    bf16=True,\n",
    ")\n",
    "\n",
    "trainer = Trainer(\n",
    "    model=model,\n",
    "    args=training_args,\n",
    "    train_dataset=tokenized_ds[\"train\"],\n",
    "    eval_dataset=tokenized_ds[\"validation\"],\n",
    "    tokenizer=tokenizer,\n",
    "    data_collator=data_collator,\n",
    ")\n",
    "\n",
    "trainer.train()"
   ]
  },
  {
   "cell_type": "code",
   "execution_count": 25,
   "metadata": {},
   "outputs": [
    {
     "data": {
      "text/html": [],
      "text/plain": [
       "<IPython.core.display.HTML object>"
      ]
     },
     "metadata": {},
     "output_type": "display_data"
    },
    {
     "data": {
      "text/plain": [
       "{'eval_loss': 0.16270506381988525,\n",
       " 'eval_runtime': 67.0883,\n",
       " 'eval_samples_per_second': 1106.185,\n",
       " 'eval_steps_per_second': 8.645,\n",
       " 'epoch': 1.0}"
      ]
     },
     "execution_count": 25,
     "metadata": {},
     "output_type": "execute_result"
    }
   ],
   "source": [
    "trainer.evaluate()"
   ]
  },
  {
   "cell_type": "code",
   "execution_count": 26,
   "metadata": {},
   "outputs": [],
   "source": [
    "dev_logits = trainer.predict(tokenized_ds[\"validation\"])"
   ]
  },
  {
   "cell_type": "code",
   "execution_count": 25,
   "metadata": {},
   "outputs": [],
   "source": [
    "dev_logits = dev_preds"
   ]
  },
  {
   "cell_type": "code",
   "execution_count": 26,
   "metadata": {},
   "outputs": [
    {
     "name": "stdout",
     "output_type": "stream",
     "text": [
      "(74212, 2) (74212,)\n"
     ]
    }
   ],
   "source": [
    "print(dev_logits.predictions.shape, dev_logits.label_ids.shape)"
   ]
  },
  {
   "cell_type": "code",
   "execution_count": 27,
   "metadata": {},
   "outputs": [],
   "source": [
    "dev_preds = np.argmax(dev_logits.predictions, axis=-1)"
   ]
  },
  {
   "cell_type": "code",
   "execution_count": 32,
   "metadata": {},
   "outputs": [
    {
     "data": {
      "text/plain": [
       "array([1, 1, 1, ..., 0, 0, 0])"
      ]
     },
     "execution_count": 32,
     "metadata": {},
     "output_type": "execute_result"
    }
   ],
   "source": [
    "dev_preds"
   ]
  },
  {
   "cell_type": "code",
   "execution_count": 42,
   "metadata": {},
   "outputs": [
    {
     "name": "stdout",
     "output_type": "stream",
     "text": [
      "{'precision': 0.9236298058074802}\n",
      "{'recall': 0.9523796690562173}\n",
      "{'f1': 0.9377844414664243}\n"
     ]
    }
   ],
   "source": [
    "#metric = evaluate.load(\"precision\", \"recall\", \"f1\")\n",
    "print(evaluate.load(\"precision\").compute(predictions=dev_preds, references=tokenized_ds[\"validation\"]['label']))\n",
    "print(evaluate.load(\"recall\").compute(predictions=dev_preds, references=tokenized_ds[\"validation\"]['label']))\n",
    "print(evaluate.load(\"f1\").compute(predictions=dev_preds, references=tokenized_ds[\"validation\"]['label']))"
   ]
  },
  {
   "cell_type": "markdown",
   "metadata": {},
   "source": [
    "# Load in controversial data"
   ]
  },
  {
   "cell_type": "code",
   "execution_count": null,
   "metadata": {},
   "outputs": [],
   "source": [
    "import glob"
   ]
  },
  {
   "cell_type": "code",
   "execution_count": null,
   "metadata": {},
   "outputs": [],
   "source": [
    "cdir = '/shared/2/projects/contextual-appropriateness/data/controversial-reddit-comments/'\n",
    "controversial_files = glob.glob(cdir + '*.tsv')\n",
    "len(controversial_files)"
   ]
  },
  {
   "cell_type": "code",
   "execution_count": null,
   "metadata": {},
   "outputs": [],
   "source": [
    "controversial_files"
   ]
  },
  {
   "cell_type": "code",
   "execution_count": 28,
   "metadata": {},
   "outputs": [],
   "source": [
    "col_names = ['text', 'reddit_id']"
   ]
  },
  {
   "cell_type": "code",
   "execution_count": null,
   "metadata": {},
   "outputs": [],
   "source": [
    "c_dfs = []\n",
    "for fname in tqdm(controversial_files):\n",
    "    df = pd.read_csv(fname,  names=col_names, header=None, sep='\\t')\n",
    "    c_dfs.append(df)"
   ]
  },
  {
   "cell_type": "code",
   "execution_count": 50,
   "metadata": {},
   "outputs": [
    {
     "data": {
      "text/html": [
       "<div>\n",
       "<style scoped>\n",
       "    .dataframe tbody tr th:only-of-type {\n",
       "        vertical-align: middle;\n",
       "    }\n",
       "\n",
       "    .dataframe tbody tr th {\n",
       "        vertical-align: top;\n",
       "    }\n",
       "\n",
       "    .dataframe thead th {\n",
       "        text-align: right;\n",
       "    }\n",
       "</style>\n",
       "<table border=\"1\" class=\"dataframe\">\n",
       "  <thead>\n",
       "    <tr style=\"text-align: right;\">\n",
       "      <th></th>\n",
       "      <th>text</th>\n",
       "      <th>reddit_id</th>\n",
       "    </tr>\n",
       "  </thead>\n",
       "  <tbody>\n",
       "    <tr>\n",
       "      <th>0</th>\n",
       "      <td>Most Americans don't want their president to f...</td>\n",
       "      <td>dy8ok3c</td>\n",
       "    </tr>\n",
       "    <tr>\n",
       "      <th>1</th>\n",
       "      <td>Stop will ya . I am invested in switcheo and w...</td>\n",
       "      <td>dy8ok4r</td>\n",
       "    </tr>\n",
       "    <tr>\n",
       "      <th>2</th>\n",
       "      <td>The divide and conquer narrative has no place ...</td>\n",
       "      <td>dy8ok5w</td>\n",
       "    </tr>\n",
       "    <tr>\n",
       "      <th>3</th>\n",
       "      <td>particularly since the two other look like chi...</td>\n",
       "      <td>dy8ok73</td>\n",
       "    </tr>\n",
       "    <tr>\n",
       "      <th>4</th>\n",
       "      <td>The disgusting cunt that somehow ended the “im...</td>\n",
       "      <td>dy8ok82</td>\n",
       "    </tr>\n",
       "  </tbody>\n",
       "</table>\n",
       "</div>"
      ],
      "text/plain": [
       "                                                text reddit_id\n",
       "0  Most Americans don't want their president to f...   dy8ok3c\n",
       "1  Stop will ya . I am invested in switcheo and w...   dy8ok4r\n",
       "2  The divide and conquer narrative has no place ...   dy8ok5w\n",
       "3  particularly since the two other look like chi...   dy8ok73\n",
       "4  The disgusting cunt that somehow ended the “im...   dy8ok82"
      ]
     },
     "execution_count": 50,
     "metadata": {},
     "output_type": "execute_result"
    }
   ],
   "source": [
    "c_dfs[0].head()"
   ]
  },
  {
   "cell_type": "code",
   "execution_count": 67,
   "metadata": {},
   "outputs": [],
   "source": [
    "cdfs = None"
   ]
  },
  {
   "cell_type": "code",
   "execution_count": 29,
   "metadata": {},
   "outputs": [
    {
     "data": {
      "text/plain": [
       "1917334"
      ]
     },
     "execution_count": 29,
     "metadata": {},
     "output_type": "execute_result"
    }
   ],
   "source": [
    "target_fname = '/shared/2/projects/contextual-appropriateness/data/controversial-reddit-comments/RC_2018-02.tsv'\n",
    "controversial_df = pd.read_csv(target_fname,  names=col_names, header=None, sep='\\t').dropna()\n",
    "len(controversial_df)"
   ]
  },
  {
   "cell_type": "code",
   "execution_count": 30,
   "metadata": {},
   "outputs": [],
   "source": [
    "#controversial_df = None #pd.concat(c_dfs).dropna()"
   ]
  },
  {
   "cell_type": "code",
   "execution_count": 31,
   "metadata": {},
   "outputs": [
    {
     "data": {
      "text/plain": [
       "1917334"
      ]
     },
     "execution_count": 31,
     "metadata": {},
     "output_type": "execute_result"
    }
   ],
   "source": [
    "len(controversial_df.dropna())"
   ]
  },
  {
   "cell_type": "markdown",
   "metadata": {},
   "source": [
    "### There were _way_ too many controversial comments to label, so just sample 10% since we won't be annotating all of them anyway"
   ]
  },
  {
   "cell_type": "code",
   "execution_count": 41,
   "metadata": {},
   "outputs": [],
   "source": [
    "sample = controversial_df.sample(frac=0.1)"
   ]
  },
  {
   "cell_type": "code",
   "execution_count": 42,
   "metadata": {},
   "outputs": [],
   "source": [
    "cds = Dataset.from_pandas(sample)"
   ]
  },
  {
   "cell_type": "code",
   "execution_count": 43,
   "metadata": {},
   "outputs": [
    {
     "data": {
      "text/plain": [
       "191733"
      ]
     },
     "execution_count": 43,
     "metadata": {},
     "output_type": "execute_result"
    }
   ],
   "source": [
    "len(cds)"
   ]
  },
  {
   "cell_type": "code",
   "execution_count": 44,
   "metadata": {},
   "outputs": [
    {
     "data": {
      "application/vnd.jupyter.widget-view+json": {
       "model_id": "",
       "version_major": 2,
       "version_minor": 0
      },
      "text/plain": [
       "Map:   0%|          | 0/191733 [00:00<?, ? examples/s]"
      ]
     },
     "metadata": {},
     "output_type": "display_data"
    }
   ],
   "source": [
    "tokenized_cds = cds.map(preprocess_function, batched=True)"
   ]
  },
  {
   "cell_type": "code",
   "execution_count": 45,
   "metadata": {},
   "outputs": [
    {
     "data": {
      "text/plain": [
       "datasets.arrow_dataset.Dataset"
      ]
     },
     "execution_count": 45,
     "metadata": {},
     "output_type": "execute_result"
    }
   ],
   "source": [
    "type(tokenized_cds)"
   ]
  },
  {
   "cell_type": "code",
   "execution_count": 46,
   "metadata": {},
   "outputs": [],
   "source": [
    "cds_logits = trainer.predict(tokenized_cds)"
   ]
  },
  {
   "cell_type": "code",
   "execution_count": 50,
   "metadata": {},
   "outputs": [],
   "source": [
    "import math\n",
    "def sigmoid(x):\n",
    "    return 1 / (1 + math.exp(-x))\n",
    "sigmoid_v = np.vectorize(sigmoid)"
   ]
  },
  {
   "cell_type": "code",
   "execution_count": 51,
   "metadata": {},
   "outputs": [],
   "source": [
    "conv_probs = sigmoid_v(cds_logits[0][:][:,1])"
   ]
  },
  {
   "cell_type": "code",
   "execution_count": 64,
   "metadata": {},
   "outputs": [],
   "source": [
    "import seaborn as sns"
   ]
  },
  {
   "cell_type": "code",
   "execution_count": 66,
   "metadata": {},
   "outputs": [],
   "source": [
    "#sns.displot(conv_probs)"
   ]
  },
  {
   "cell_type": "code",
   "execution_count": null,
   "metadata": {},
   "outputs": [],
   "source": [
    "cds_logits[0][3]"
   ]
  },
  {
   "cell_type": "code",
   "execution_count": 82,
   "metadata": {},
   "outputs": [
    {
     "data": {
      "text/plain": [
       "<function torch._VariableFunctionsClass.sigmoid>"
      ]
     },
     "execution_count": 82,
     "metadata": {},
     "output_type": "execute_result"
    }
   ],
   "source": [
    "torch.sigmoid"
   ]
  },
  {
   "cell_type": "code",
   "execution_count": 86,
   "metadata": {},
   "outputs": [],
   "source": [
    "cds_conv_preds = np.argmax(cds_logits.predictions, axis=-1)"
   ]
  },
  {
   "cell_type": "code",
   "execution_count": 87,
   "metadata": {},
   "outputs": [
    {
     "data": {
      "text/plain": [
       "1917346"
      ]
     },
     "execution_count": 87,
     "metadata": {},
     "output_type": "execute_result"
    }
   ],
   "source": [
    "len(cds_conv_preds)"
   ]
  },
  {
   "cell_type": "code",
   "execution_count": 88,
   "metadata": {},
   "outputs": [
    {
     "data": {
      "text/plain": [
       "array([0, 0, 0, 0, 0, 0, 1, 0, 0, 0])"
      ]
     },
     "execution_count": 88,
     "metadata": {},
     "output_type": "execute_result"
    }
   ],
   "source": [
    "cds_conv_preds[0:10]"
   ]
  },
  {
   "cell_type": "code",
   "execution_count": 92,
   "metadata": {},
   "outputs": [
    {
     "data": {
      "text/plain": [
       "1917346"
      ]
     },
     "execution_count": 92,
     "metadata": {},
     "output_type": "execute_result"
    }
   ],
   "source": [
    "len(controversial_df)"
   ]
  },
  {
   "cell_type": "code",
   "execution_count": 53,
   "metadata": {},
   "outputs": [],
   "source": [
    "sample['conversational_prob'] = conv_probs"
   ]
  },
  {
   "cell_type": "code",
   "execution_count": 68,
   "metadata": {},
   "outputs": [
    {
     "data": {
      "text/plain": [
       "<AxesSubplot:>"
      ]
     },
     "execution_count": 68,
     "metadata": {},
     "output_type": "execute_result"
    },
    {
     "data": {
      "image/png": "[encoded data removed]",
      "text/plain": [
       "<Figure size 432x288 with 1 Axes>"
      ]
     },
     "metadata": {
      "needs_background": "light"
     },
     "output_type": "display_data"
    }
   ],
   "source": [
    "sample['conversational_prob'].hist()"
   ]
  },
  {
   "cell_type": "code",
   "execution_count": 54,
   "metadata": {},
   "outputs": [],
   "source": [
    "example_df = sample.sort_values(by='conversational_prob')"
   ]
  },
  {
   "cell_type": "code",
   "execution_count": 60,
   "metadata": {},
   "outputs": [
    {
     "data": {
      "text/html": [
       "<div>\n",
       "<style scoped>\n",
       "    .dataframe tbody tr th:only-of-type {\n",
       "        vertical-align: middle;\n",
       "    }\n",
       "\n",
       "    .dataframe tbody tr th {\n",
       "        vertical-align: top;\n",
       "    }\n",
       "\n",
       "    .dataframe thead th {\n",
       "        text-align: right;\n",
       "    }\n",
       "</style>\n",
       "<table border=\"1\" class=\"dataframe\">\n",
       "  <thead>\n",
       "    <tr style=\"text-align: right;\">\n",
       "      <th></th>\n",
       "      <th>text</th>\n",
       "      <th>reddit_id</th>\n",
       "      <th>conversational_prob</th>\n",
       "    </tr>\n",
       "  </thead>\n",
       "  <tbody>\n",
       "    <tr>\n",
       "      <th>378931</th>\n",
       "      <td>&amp;gt;Gnar buffs\\n\\nY tho</td>\n",
       "      <td>dtu8ti5</td>\n",
       "      <td>0.025179</td>\n",
       "    </tr>\n",
       "    <tr>\n",
       "      <th>1831868</th>\n",
       "      <td>SCAM.\\nhttps://www.reddit.com/user/cairadacb</td>\n",
       "      <td>dux6ety</td>\n",
       "      <td>0.025179</td>\n",
       "    </tr>\n",
       "    <tr>\n",
       "      <th>169232</th>\n",
       "      <td>&amp;gt; subtly\\n\\n:/</td>\n",
       "      <td>dtoj8dw</td>\n",
       "      <td>0.025179</td>\n",
       "    </tr>\n",
       "    <tr>\n",
       "      <th>57187</th>\n",
       "      <td>&amp;gt; everytime\\n\\n*every time</td>\n",
       "      <td>dtlcrac</td>\n",
       "      <td>0.025179</td>\n",
       "    </tr>\n",
       "    <tr>\n",
       "      <th>1145408</th>\n",
       "      <td>bleep bloop [in russian bot language]  fuck u ...</td>\n",
       "      <td>duetlog</td>\n",
       "      <td>0.025179</td>\n",
       "    </tr>\n",
       "  </tbody>\n",
       "</table>\n",
       "</div>"
      ],
      "text/plain": [
       "                                                      text reddit_id   \n",
       "378931                             &gt;Gnar buffs\\n\\nY tho   dtu8ti5  \\\n",
       "1831868       SCAM.\\nhttps://www.reddit.com/user/cairadacb   dux6ety   \n",
       "169232                                   &gt; subtly\\n\\n:/   dtoj8dw   \n",
       "57187                        &gt; everytime\\n\\n*every time   dtlcrac   \n",
       "1145408  bleep bloop [in russian bot language]  fuck u ...   duetlog   \n",
       "\n",
       "         conversational_prob  \n",
       "378931              0.025179  \n",
       "1831868             0.025179  \n",
       "169232              0.025179  \n",
       "57187               0.025179  \n",
       "1145408             0.025179  "
      ]
     },
     "execution_count": 60,
     "metadata": {},
     "output_type": "execute_result"
    }
   ],
   "source": [
    "example_df.head()"
   ]
  },
  {
   "cell_type": "code",
   "execution_count": 59,
   "metadata": {},
   "outputs": [
    {
     "name": "stdout",
     "output_type": "stream",
     "text": [
      "0.03\tCan I get an upvote for Norwegian Jazz Metal?\\nhttps://youtu.be/iGwBp7Yr0Oo\n",
      "0.03\tEwwwwww.\\n\\n\\nThe game looks so much  better in 1.3.\\n\\n\\nThe lack of Godrays, lack of color correction, weak shadows,and no HBAO really makes the game look bland and washed out in 1.03\\n\\nThe game is absolutely stunning even on Ps4 atm.........\\n\\nSo\\n\\nMan I can't wait to see what 1.5 adds!\\n\\n\\nBoth visuals wise and gameplay wise.  :)\n",
      "0.03\tWickd thinks he is still somehow relevant, just watch his twitch bio LUL, never seen someone with &lt; 1k viwers be so full of himself \n",
      "0.03\tFuck these refs lol. I’m done. See you in the tourney penn state \n",
      "0.03\tThis post inspired me to unsubscribe. While D2 was awful, this post made me realize i didn't need all the stupid negative posts coming up as I browse Reddit. Would recommend the rest of you do as well and just try again when D3 comes out.\n",
      "0.03\t[deleted]\n",
      "0.03\tYou mean one is *also* a GPS and you're trying to tell me that makes it a *totally different object*? If I buy a seaplane are you going to tell me I can't compare its ability to fly to other planes because, while it does fly like the other planes, *this one* is a *totally different vehicle* because 1 function was added on top of it?\n",
      "0.03\tThis was a case though where the matchup was kind of niche, saying they are at the top of a tournement so they should know every single interaction for every board scernio is absurd and to game loss someone for thag is even more ridiculous \n",
      "0.03\tCould you possibly imagine having a game you like and not being able to identify with the character through their only defining trait - gender? I can't imagine anyone who has ever had that particular problem.\\n\\nAlso, how would you feel if you had to connect with a character based on something absurd like personality, temperament, history, or - god forbid - game mechanics? What if you did manage to connect with a character through one of those tertiary characteristics and it happened to be a woman? Would you just be trans then? Because, obviously, if you relate to a person of another gender you automatically take on that gender.\n",
      "0.03\tDude you don't know half as much as you think 😂\\nThe game is fucking FINAL on PC, it's a work in progress port!\\nAlphas come before the so called \"Code Freeze\" where no new integral code get's added, only tweaks and Bug fixes!\\nSo pull your head out off your ass and educate yourself FFS\n",
      "0.03\tYeah, the save was nuts xD\\nand thank you for the advice. \\nI just started playing rocket league recently like 2-3 months ago and I managed to reach plat once but that was right at the end of the season\\nI will continue to improve my play, thank you!\n",
      "0.03\tSo I stopped watching after the second episode when I saw the prison transport pilot died and decided that this wasn't the optimistic human future Trek I was hoping for and eventually found in The Orville. \\n\\nDoes the rest of the season perk up or should I just avoid the whole thing? I loved nearly every star trek, but this dark edgy shit I don't need in my Trek. \n",
      "0.03\tThose are two political parties. The real comparison would be Republicans wanting to do it to Muslims, of course it’s not acceptable, just pointing out the different scenarios. \\n\\nEdit: Sentence\n",
      "0.03\tIt’s not my fault the government has spent beyond its means and it isn’t my duty to pick up the tab.  Feel free to donate half of your income to the government if you feel so strongly but keep your hands out of my pocket.\n",
      "0.03\tAll I can say is it's very very hard to take the Russian media by its word, when the Russian media is state owned and most definitely has a pro-Russian propaganda bias. Is it possible this was a noble issue that Russia wanted to be heroic? Sure. Is it possible there was a bad situation and Russia decided to benefit from it? That's possible too. I take everything from Russia's news with a grain of salt.\\n\\nRomney, of all people, realized Russia was expanding its influence in a Cold War manner. Obama didn't listen, he was passive and Russia benefited from it.\n",
      "0.03\tThis is some hot garbage. I ordered Alphabounce Beyonds on the ADC NCAA glitch and they sent old ass, all-white Alphabounces. Product code on the shipping box matches my order. Have to return and of course re-order the Beyonds, then supposed to call and they will eventually credit to match the old price (40%). TRASH\n",
      "0.03\tnone of that crap makes a difference tbh, active pvpers is 3k, and alot of them are casual at best with less than 200 kills for the life of their pilots. Its fluffed up numbers that really doesn't matter.    \\n2 years ago goons would fill 2 full fleets and a third for overflow, a year ago they started to get 3 full and fourth of crap. This year they average 2 full and third of random shit on max hype fleets.   \\nNothing has changed except their number of in actives and non pvp pilots has gone up.      \\nThey still are scared to commit to big fights where they might lose and they still refuse to use their super cap fleet anywhere near pl or nc. They just sit in delve now and crab, while their fcs scrap together fleets for everyday content that is usually just bullshit ganking ratters. They wont deploy to fight anyone because their bots and input broadcasters would be vulnerable and they need that tax money\n",
      "0.03\tPlug a fucking ethernet cable into your ps4 or pc and problem: solved. Stop trying to play a 60 fps online 3v3 fighting game over wifi. \n",
      "0.03\tI thought Marauder needed to be nerfed, but not the nerf they handed down.\\n\\nMy thought process was that the only thing holding it down was a combination of Dwarves, NG spies and spy abuse in general.\\n\\nOnce that was taken away there was very little which could compete with it's tempo(except maybe consume which has a lot more counters), it was so easy in the last patch to get 20+ points without any real effort due to Bear Masters.\\n\\nWith that said it's ability was cool and should have remained so, i don't agree with the millions of 1 point nerfs but i think here it would have sufficed. \\n\\nNot only does it simplify the ability to be utterly boring like most things in Gwent right now it quite frankly took a revolver to the head of the card's viability at the same time.\n",
      "0.03\tLook man, I'm not trying to be a dick here, but your wife sounds like a close-minded and selfish bitch who's ready to take a swing at your dignity and guilt trip the crap out of you whenever you do something she deems as possibly mildly inconvenient to her- in this case, \"inconvenient\" being \"a husband who has the nerve to not share her gross food addiction.\" That's only taking into account the vegan thing.\\n\\nBut when you add in the religion (I assume she is still religious) and other things, it sounds like you guys are just growing apart and the vegan thing was just the last straw. This is obviously a stranger looking through a tiny, online window, but that's the impression this post gives. The compatibility may be fading if either of you is growing in a direction which the other is unable or unwilling to support. \\n\\nYou said you dont want advice on divorce but unless you added that after seeing such responses, the fact that you felt the need to even mention it is kinda telling. And when youre telling us that your wife is aggressively and persistently unsupportive of what you want to do *for yourself*, to the point where she enjoys seeing you fail because it means she gets the convenience of not having to deal with it anymore, then it's kinda hard for us to not allude to reconsidering the relationship. Just something to think about, and to discuss with her after you've had a chance to organize your own thoughts. Not saying \"get divorced,\" but you definitely need to talk to each other and acknowledge that things have changed, and decide together how to handle that.\n",
      "0.03\t&gt; proposed assault weapons ban\\n\\ni just read it. its sad really. these people are putting some absurd political agenda that makes no sense above the safety of the public in the guise that it is actually for safety. I swear the dems want to turn the US into some fascist state. \n",
      "0.03\tScientology can easily be proven to be total nonsense is the difference. \\n\\nFind the documentary called \"Coming Clear\" it lays out exactly why and how that religion was invented. It has nothing to do with helping people come to grips with death or living a fulfilling life like most religions do.\n",
      "0.03\ti wish more people thought like this.  im shocked at how many of the comments are concerned about the travel.  give me a f*cking break.  an extra hour in the air on their private jets doesnt mean a dam thing.  they get travel days in the playoffs along with 2 extra days of rest sprinkled into a 7 game series.  as shaq would say... \" MAN UP\"\n",
      "0.03\tThe gun people are pretty much cultists.  They are programmed to defend them regardless of facts or reason or consequences.  \\n\\nI have plenty of hobbies.  If my hobbies ended up murdering children in schools, a rationale person would go, hmmmm, I guess I'll trash my murderskis and take up bicycling.  \n",
      "0.03\t&gt; Crime does pay\\n\\nI.e. Trump is president.\n",
      "0.03\tWhen the same person posts a complaint in a rude manner (the exact same complaint) several times in the same thread it gets real old.\n",
      "0.03\tWhats a bitcoin?\\n\\nThis is a joke guys relax\n",
      "0.03\tpretty much 90% of pokemon dont show near pokestops on the 'nearby' list. started using a scanner again after about a year. the mons I must have missed disgusts me.\n",
      "0.04\tAccording to his wikipedia [profile](https://en.wikipedia.org/wiki/Byron_York) \"Byron York is an American conservative columnist for the Washington Examiner, Fox News contributor...\". I haven't read enough of his past work to form an opinion as to how accurate his reporting is - but from a brief skim he does not appear to be in the ilk of Sean Hannity. \n",
      "0.04\tUm.... I do call Abbotsford a Vancouver suburb.  Sorry. \\n\\n\n",
      "0.04\tMost of that count is made up of accidents or suucides. One was a bb gun that hit a school bus. \\n\\nMake your point without being intellectually dishonest. \n",
      "0.04\thttp://yourteamcheats.com/cheaters/\n",
      "0.04\tPull down those shorts, girl, and let me get a whiff of that sweet bungus hole of yours! ☺️\n",
      "0.04\tYeah I know of the existense of alt right. Point was this guy is throwing it around as the new 'nazi'. When James Woods clearly is nothing close to 'alt right'.\n",
      "0.04\tStephen Paddock. Usually when cops find a dead guy they say he died “from an apparent self inflicted gunshot wound”. But in Vegas, the body was still laying on ground and all media were reporting it was a suicide. Everything about the Las Vegas shooting is fishy. \n",
      "0.04\tDigital Restrictions Management *\n",
      "0.05\tTo be fair, in Gwent the loot is the content. In Overwatch, it is just meaningless cosmetics.\n",
      "0.06\tYour ONE innocent life statemt is irrational.\\n\\nI'm almost willing to bet my paycheck there's something hypocritical hiding under the hood over in your world.  Are you pro choice or pro life?\n",
      "0.09\tNice throwback. That was dealt with in July 2016 when the chair of the DNC resigned in disgrace. Try to keep up. \n",
      "0.11\tExcept that tv is 349 at Costco! Unless that's the slightly pricier one, I can't tell.\n",
      "0.13\tLol\n",
      "0.14\tGoodbye \n",
      "0.15\tWord, hard to tell sometimes\n",
      "0.18\t9/10 why are you even here lol\n",
      "0.19\tWhy does this have to be pointed out every gotdamn time? Y'all need to be more secure with yourselves, damn.\n",
      "0.26\tWestchase is pure garbage bottom to top.\n",
      "0.27\tShooting people, preferably your wife, with a gun is a God given right from the time when Jesus came down a rainbow on a dinosaur and wrote The Constitution.\n",
      "0.39\tThe Ritual is pretty fucking great when it get's going.\n",
      "0.41\tEdgy as fuck.\n",
      "0.44\tFuck SPOG. \n"
     ]
    }
   ],
   "source": [
    "for row in example_df.sample(50).sort_values(by='conversational_prob').itertuples():\n",
    "    print('%0.2f\\t%s' % (row.conversational_prob, row.text))"
   ]
  },
  {
   "cell_type": "code",
   "execution_count": 125,
   "metadata": {},
   "outputs": [
    {
     "data": {
      "text/html": [
       "<div>\n",
       "<style scoped>\n",
       "    .dataframe tbody tr th:only-of-type {\n",
       "        vertical-align: middle;\n",
       "    }\n",
       "\n",
       "    .dataframe tbody tr th {\n",
       "        vertical-align: top;\n",
       "    }\n",
       "\n",
       "    .dataframe thead th {\n",
       "        text-align: right;\n",
       "    }\n",
       "</style>\n",
       "<table border=\"1\" class=\"dataframe\">\n",
       "  <thead>\n",
       "    <tr style=\"text-align: right;\">\n",
       "      <th></th>\n",
       "      <th>text</th>\n",
       "      <th>reddit_id</th>\n",
       "      <th>conversational_prob</th>\n",
       "    </tr>\n",
       "  </thead>\n",
       "  <tbody>\n",
       "    <tr>\n",
       "      <th>0</th>\n",
       "      <td>&amp;gt;By the way, I trust police officers, perha...</td>\n",
       "      <td>dtjoj5t</td>\n",
       "      <td>0.008872</td>\n",
       "    </tr>\n",
       "    <tr>\n",
       "      <th>1</th>\n",
       "      <td>If only he abused male children a different way.</td>\n",
       "      <td>dtjoj60</td>\n",
       "      <td>0.034740</td>\n",
       "    </tr>\n",
       "    <tr>\n",
       "      <th>2</th>\n",
       "      <td>It's not too long until the summer muppetry st...</td>\n",
       "      <td>dtjoj6l</td>\n",
       "      <td>0.053784</td>\n",
       "    </tr>\n",
       "    <tr>\n",
       "      <th>3</th>\n",
       "      <td>&amp;gt;Apple ~~broke my stuff~~ has given me a gr...</td>\n",
       "      <td>dtjoj84</td>\n",
       "      <td>0.008848</td>\n",
       "    </tr>\n",
       "    <tr>\n",
       "      <th>4</th>\n",
       "      <td>Hello Mr Sid :\")</td>\n",
       "      <td>dtjoj86</td>\n",
       "      <td>0.023017</td>\n",
       "    </tr>\n",
       "    <tr>\n",
       "      <th>5</th>\n",
       "      <td>I didn't used to dislike atheists, but on-line...</td>\n",
       "      <td>dtjoj8x</td>\n",
       "      <td>0.008751</td>\n",
       "    </tr>\n",
       "    <tr>\n",
       "      <th>6</th>\n",
       "      <td>Looks like they took a page out of the Dem's b...</td>\n",
       "      <td>dtjojbb</td>\n",
       "      <td>0.898020</td>\n",
       "    </tr>\n",
       "    <tr>\n",
       "      <th>7</th>\n",
       "      <td>1. Santa Clara Vanguard\\n\\n2. Blue Devils\\n\\n3...</td>\n",
       "      <td>dtjojcm</td>\n",
       "      <td>0.008849</td>\n",
       "    </tr>\n",
       "    <tr>\n",
       "      <th>8</th>\n",
       "      <td>Like definitely not the best thing to do but i...</td>\n",
       "      <td>dtjojd6</td>\n",
       "      <td>0.020905</td>\n",
       "    </tr>\n",
       "    <tr>\n",
       "      <th>9</th>\n",
       "      <td>Jerry will let Morris walk and put All Day beh...</td>\n",
       "      <td>dtjojeq</td>\n",
       "      <td>0.011099</td>\n",
       "    </tr>\n",
       "  </tbody>\n",
       "</table>\n",
       "</div>"
      ],
      "text/plain": [
       "                                                text reddit_id  \\\n",
       "0  &gt;By the way, I trust police officers, perha...   dtjoj5t   \n",
       "1  If only he abused male children a different way.    dtjoj60   \n",
       "2  It's not too long until the summer muppetry st...   dtjoj6l   \n",
       "3  &gt;Apple ~~broke my stuff~~ has given me a gr...   dtjoj84   \n",
       "4                                   Hello Mr Sid :\")   dtjoj86   \n",
       "5  I didn't used to dislike atheists, but on-line...   dtjoj8x   \n",
       "6  Looks like they took a page out of the Dem's b...   dtjojbb   \n",
       "7  1. Santa Clara Vanguard\\n\\n2. Blue Devils\\n\\n3...   dtjojcm   \n",
       "8  Like definitely not the best thing to do but i...   dtjojd6   \n",
       "9  Jerry will let Morris walk and put All Day beh...   dtjojeq   \n",
       "\n",
       "   conversational_prob  \n",
       "0             0.008872  \n",
       "1             0.034740  \n",
       "2             0.053784  \n",
       "3             0.008848  \n",
       "4             0.023017  \n",
       "5             0.008751  \n",
       "6             0.898020  \n",
       "7             0.008849  \n",
       "8             0.020905  \n",
       "9             0.011099  "
      ]
     },
     "execution_count": 125,
     "metadata": {},
     "output_type": "execute_result"
    }
   ],
   "source": [
    "controversial_df.head(10)"
   ]
  },
  {
   "cell_type": "code",
   "execution_count": 126,
   "metadata": {},
   "outputs": [
    {
     "data": {
      "text/plain": [
       "145210"
      ]
     },
     "execution_count": 126,
     "metadata": {},
     "output_type": "execute_result"
    }
   ],
   "source": [
    "conv_cont_df = controversial_df[controversial_df.conversational_prob > 0.5]\n",
    "len(conv_cont_df)"
   ]
  },
  {
   "cell_type": "code",
   "execution_count": 127,
   "metadata": {},
   "outputs": [
    {
     "data": {
      "text/html": [
       "<div>\n",
       "<style scoped>\n",
       "    .dataframe tbody tr th:only-of-type {\n",
       "        vertical-align: middle;\n",
       "    }\n",
       "\n",
       "    .dataframe tbody tr th {\n",
       "        vertical-align: top;\n",
       "    }\n",
       "\n",
       "    .dataframe thead th {\n",
       "        text-align: right;\n",
       "    }\n",
       "</style>\n",
       "<table border=\"1\" class=\"dataframe\">\n",
       "  <thead>\n",
       "    <tr style=\"text-align: right;\">\n",
       "      <th></th>\n",
       "      <th>text</th>\n",
       "      <th>reddit_id</th>\n",
       "      <th>conversational_prob</th>\n",
       "    </tr>\n",
       "  </thead>\n",
       "  <tbody>\n",
       "    <tr>\n",
       "      <th>6</th>\n",
       "      <td>Looks like they took a page out of the Dem's b...</td>\n",
       "      <td>dtjojbb</td>\n",
       "      <td>0.898020</td>\n",
       "    </tr>\n",
       "    <tr>\n",
       "      <th>40</th>\n",
       "      <td>Fuck that. Jerry is a pest. Do you want some d...</td>\n",
       "      <td>dtjoki3</td>\n",
       "      <td>0.985815</td>\n",
       "    </tr>\n",
       "    <tr>\n",
       "      <th>69</th>\n",
       "      <td>Could it perhaps be the thumbnail of a black w...</td>\n",
       "      <td>dtjolrw</td>\n",
       "      <td>0.900478</td>\n",
       "    </tr>\n",
       "    <tr>\n",
       "      <th>93</th>\n",
       "      <td>Let's hope he retires all his political aspira...</td>\n",
       "      <td>dtjomik</td>\n",
       "      <td>0.855261</td>\n",
       "    </tr>\n",
       "    <tr>\n",
       "      <th>111</th>\n",
       "      <td>He was a hard guy to root for.</td>\n",
       "      <td>dtjoncj</td>\n",
       "      <td>0.868311</td>\n",
       "    </tr>\n",
       "  </tbody>\n",
       "</table>\n",
       "</div>"
      ],
      "text/plain": [
       "                                                  text reddit_id  \\\n",
       "6    Looks like they took a page out of the Dem's b...   dtjojbb   \n",
       "40   Fuck that. Jerry is a pest. Do you want some d...   dtjoki3   \n",
       "69   Could it perhaps be the thumbnail of a black w...   dtjolrw   \n",
       "93   Let's hope he retires all his political aspira...   dtjomik   \n",
       "111                     He was a hard guy to root for.   dtjoncj   \n",
       "\n",
       "     conversational_prob  \n",
       "6               0.898020  \n",
       "40              0.985815  \n",
       "69              0.900478  \n",
       "93              0.855261  \n",
       "111             0.868311  "
      ]
     },
     "execution_count": 127,
     "metadata": {},
     "output_type": "execute_result"
    }
   ],
   "source": [
    "conv_cont_df.head()"
   ]
  },
  {
   "cell_type": "code",
   "execution_count": 2,
   "metadata": {},
   "outputs": [],
   "source": [
    "cdir = '/shared/2/projects/contextual-appropriateness/data/controversial-reddit-comments/'"
   ]
  },
  {
   "cell_type": "code",
   "execution_count": 129,
   "metadata": {},
   "outputs": [],
   "source": [
    "conv_cont_df.to_csv(cdir + 'conversation-controversial-comments.RC_2018-02.csv', index=False)"
   ]
  },
  {
   "cell_type": "code",
   "execution_count": 130,
   "metadata": {},
   "outputs": [
    {
     "data": {
      "text/html": [
       "<div>\n",
       "<style scoped>\n",
       "    .dataframe tbody tr th:only-of-type {\n",
       "        vertical-align: middle;\n",
       "    }\n",
       "\n",
       "    .dataframe tbody tr th {\n",
       "        vertical-align: top;\n",
       "    }\n",
       "\n",
       "    .dataframe thead th {\n",
       "        text-align: right;\n",
       "    }\n",
       "</style>\n",
       "<table border=\"1\" class=\"dataframe\">\n",
       "  <thead>\n",
       "    <tr style=\"text-align: right;\">\n",
       "      <th></th>\n",
       "      <th>text</th>\n",
       "      <th>reddit_id</th>\n",
       "      <th>conversational_prob</th>\n",
       "    </tr>\n",
       "  </thead>\n",
       "  <tbody>\n",
       "    <tr>\n",
       "      <th>6</th>\n",
       "      <td>Looks like they took a page out of the Dem's b...</td>\n",
       "      <td>dtjojbb</td>\n",
       "      <td>0.898020</td>\n",
       "    </tr>\n",
       "    <tr>\n",
       "      <th>40</th>\n",
       "      <td>Fuck that. Jerry is a pest. Do you want some d...</td>\n",
       "      <td>dtjoki3</td>\n",
       "      <td>0.985815</td>\n",
       "    </tr>\n",
       "    <tr>\n",
       "      <th>69</th>\n",
       "      <td>Could it perhaps be the thumbnail of a black w...</td>\n",
       "      <td>dtjolrw</td>\n",
       "      <td>0.900478</td>\n",
       "    </tr>\n",
       "    <tr>\n",
       "      <th>93</th>\n",
       "      <td>Let's hope he retires all his political aspira...</td>\n",
       "      <td>dtjomik</td>\n",
       "      <td>0.855261</td>\n",
       "    </tr>\n",
       "    <tr>\n",
       "      <th>111</th>\n",
       "      <td>He was a hard guy to root for.</td>\n",
       "      <td>dtjoncj</td>\n",
       "      <td>0.868311</td>\n",
       "    </tr>\n",
       "    <tr>\n",
       "      <th>127</th>\n",
       "      <td>Why assume they were left in the dark?</td>\n",
       "      <td>dtjoobj</td>\n",
       "      <td>0.924102</td>\n",
       "    </tr>\n",
       "    <tr>\n",
       "      <th>145</th>\n",
       "      <td>The food is pretty terrible but it's a fun pla...</td>\n",
       "      <td>dtjop0s</td>\n",
       "      <td>0.961251</td>\n",
       "    </tr>\n",
       "    <tr>\n",
       "      <th>155</th>\n",
       "      <td>Nice Honda!</td>\n",
       "      <td>dtjopjt</td>\n",
       "      <td>0.877390</td>\n",
       "    </tr>\n",
       "    <tr>\n",
       "      <th>163</th>\n",
       "      <td>What's your reason for thinking this?</td>\n",
       "      <td>dtjoq4w</td>\n",
       "      <td>0.932074</td>\n",
       "    </tr>\n",
       "    <tr>\n",
       "      <th>167</th>\n",
       "      <td>But they have the high ground.</td>\n",
       "      <td>dtjoq8d</td>\n",
       "      <td>0.927620</td>\n",
       "    </tr>\n",
       "    <tr>\n",
       "      <th>169</th>\n",
       "      <td>I don't have a TV. Fuck your assumptions, fat ...</td>\n",
       "      <td>dtjoq93</td>\n",
       "      <td>0.955199</td>\n",
       "    </tr>\n",
       "    <tr>\n",
       "      <th>193</th>\n",
       "      <td>He's not dead though. I hear he recently won a...</td>\n",
       "      <td>dtjor8i</td>\n",
       "      <td>0.884974</td>\n",
       "    </tr>\n",
       "    <tr>\n",
       "      <th>217</th>\n",
       "      <td>This should be on the switch.</td>\n",
       "      <td>dtjos77</td>\n",
       "      <td>0.851082</td>\n",
       "    </tr>\n",
       "    <tr>\n",
       "      <th>219</th>\n",
       "      <td>But Bill Clinton met with Loretta Lynch one time.</td>\n",
       "      <td>dtjos80</td>\n",
       "      <td>0.870699</td>\n",
       "    </tr>\n",
       "    <tr>\n",
       "      <th>229</th>\n",
       "      <td>What does the company's profitability have to ...</td>\n",
       "      <td>dtjosru</td>\n",
       "      <td>0.765399</td>\n",
       "    </tr>\n",
       "    <tr>\n",
       "      <th>247</th>\n",
       "      <td>Come over to classical, folks. You can spend a...</td>\n",
       "      <td>dtjotj1</td>\n",
       "      <td>0.989505</td>\n",
       "    </tr>\n",
       "    <tr>\n",
       "      <th>302</th>\n",
       "      <td>Oh, yeah, I run into that one from time to time.</td>\n",
       "      <td>dtjovox</td>\n",
       "      <td>0.954049</td>\n",
       "    </tr>\n",
       "    <tr>\n",
       "      <th>329</th>\n",
       "      <td>sure buddy... I belive you...</td>\n",
       "      <td>dtjowmn</td>\n",
       "      <td>0.915663</td>\n",
       "    </tr>\n",
       "    <tr>\n",
       "      <th>343</th>\n",
       "      <td>Well it was up for the month. But definitely n...</td>\n",
       "      <td>dtjox25</td>\n",
       "      <td>0.918791</td>\n",
       "    </tr>\n",
       "    <tr>\n",
       "      <th>371</th>\n",
       "      <td>You know what, I want this community to be who...</td>\n",
       "      <td>dtjoycn</td>\n",
       "      <td>0.895614</td>\n",
       "    </tr>\n",
       "  </tbody>\n",
       "</table>\n",
       "</div>"
      ],
      "text/plain": [
       "                                                  text reddit_id  \\\n",
       "6    Looks like they took a page out of the Dem's b...   dtjojbb   \n",
       "40   Fuck that. Jerry is a pest. Do you want some d...   dtjoki3   \n",
       "69   Could it perhaps be the thumbnail of a black w...   dtjolrw   \n",
       "93   Let's hope he retires all his political aspira...   dtjomik   \n",
       "111                     He was a hard guy to root for.   dtjoncj   \n",
       "127             Why assume they were left in the dark?   dtjoobj   \n",
       "145  The food is pretty terrible but it's a fun pla...   dtjop0s   \n",
       "155                                        Nice Honda!   dtjopjt   \n",
       "163              What's your reason for thinking this?   dtjoq4w   \n",
       "167                     But they have the high ground.   dtjoq8d   \n",
       "169  I don't have a TV. Fuck your assumptions, fat ...   dtjoq93   \n",
       "193  He's not dead though. I hear he recently won a...   dtjor8i   \n",
       "217                      This should be on the switch.   dtjos77   \n",
       "219  But Bill Clinton met with Loretta Lynch one time.   dtjos80   \n",
       "229  What does the company's profitability have to ...   dtjosru   \n",
       "247  Come over to classical, folks. You can spend a...   dtjotj1   \n",
       "302   Oh, yeah, I run into that one from time to time.   dtjovox   \n",
       "329                     sure buddy... I belive you...    dtjowmn   \n",
       "343  Well it was up for the month. But definitely n...   dtjox25   \n",
       "371  You know what, I want this community to be who...   dtjoycn   \n",
       "\n",
       "     conversational_prob  \n",
       "6               0.898020  \n",
       "40              0.985815  \n",
       "69              0.900478  \n",
       "93              0.855261  \n",
       "111             0.868311  \n",
       "127             0.924102  \n",
       "145             0.961251  \n",
       "155             0.877390  \n",
       "163             0.932074  \n",
       "167             0.927620  \n",
       "169             0.955199  \n",
       "193             0.884974  \n",
       "217             0.851082  \n",
       "219             0.870699  \n",
       "229             0.765399  \n",
       "247             0.989505  \n",
       "302             0.954049  \n",
       "329             0.915663  \n",
       "343             0.918791  \n",
       "371             0.895614  "
      ]
     },
     "execution_count": 130,
     "metadata": {},
     "output_type": "execute_result"
    }
   ],
   "source": [
    "conv_cont_df.head(20)"
   ]
  },
  {
   "cell_type": "code",
   "execution_count": null,
   "metadata": {},
   "outputs": [],
   "source": []
  },
  {
   "cell_type": "code",
   "execution_count": 3,
   "metadata": {},
   "outputs": [],
   "source": [
    "conv_cont_df = pd.read_csv(cdir + 'conversation-controversial-comments.RC_2018-02.csv')"
   ]
  },
  {
   "cell_type": "code",
   "execution_count": 4,
   "metadata": {},
   "outputs": [],
   "source": [
    "sdf = conv_cont_df.sort_values(by='conversational_prob')"
   ]
  },
  {
   "cell_type": "code",
   "execution_count": 11,
   "metadata": {},
   "outputs": [
    {
     "data": {
      "text/html": [
       "<div>\n",
       "<style scoped>\n",
       "    .dataframe tbody tr th:only-of-type {\n",
       "        vertical-align: middle;\n",
       "    }\n",
       "\n",
       "    .dataframe tbody tr th {\n",
       "        vertical-align: top;\n",
       "    }\n",
       "\n",
       "    .dataframe thead th {\n",
       "        text-align: right;\n",
       "    }\n",
       "</style>\n",
       "<table border=\"1\" class=\"dataframe\">\n",
       "  <thead>\n",
       "    <tr style=\"text-align: right;\">\n",
       "      <th></th>\n",
       "      <th>text</th>\n",
       "      <th>reddit_id</th>\n",
       "      <th>conversational_prob</th>\n",
       "    </tr>\n",
       "  </thead>\n",
       "  <tbody>\n",
       "    <tr>\n",
       "      <th>17426</th>\n",
       "      <td>Thanks for the assumption.</td>\n",
       "      <td>dtq3omh</td>\n",
       "      <td>0.500597</td>\n",
       "    </tr>\n",
       "    <tr>\n",
       "      <th>52981</th>\n",
       "      <td>Hi body language and attitude is atrocious. We...</td>\n",
       "      <td>du30eug</td>\n",
       "      <td>0.500716</td>\n",
       "    </tr>\n",
       "    <tr>\n",
       "      <th>113078</th>\n",
       "      <td>Oh, so you do have that experience. You're a h...</td>\n",
       "      <td>duo8hty</td>\n",
       "      <td>0.500778</td>\n",
       "    </tr>\n",
       "    <tr>\n",
       "      <th>107193</th>\n",
       "      <td>Haha I agree.</td>\n",
       "      <td>dum6ot7</td>\n",
       "      <td>0.500782</td>\n",
       "    </tr>\n",
       "    <tr>\n",
       "      <th>35425</th>\n",
       "      <td>She wants to have her cake and eat it too.  A ...</td>\n",
       "      <td>dtwnedb</td>\n",
       "      <td>0.501157</td>\n",
       "    </tr>\n",
       "  </tbody>\n",
       "</table>\n",
       "</div>"
      ],
      "text/plain": [
       "                                                     text reddit_id   \n",
       "17426                          Thanks for the assumption.   dtq3omh  \\\n",
       "52981   Hi body language and attitude is atrocious. We...   du30eug   \n",
       "113078  Oh, so you do have that experience. You're a h...   duo8hty   \n",
       "107193                                      Haha I agree.   dum6ot7   \n",
       "35425   She wants to have her cake and eat it too.  A ...   dtwnedb   \n",
       "\n",
       "        conversational_prob  \n",
       "17426              0.500597  \n",
       "52981              0.500716  \n",
       "113078             0.500778  \n",
       "107193             0.500782  \n",
       "35425              0.501157  "
      ]
     },
     "execution_count": 11,
     "metadata": {},
     "output_type": "execute_result"
    }
   ],
   "source": [
    "sdf.head()"
   ]
  },
  {
   "cell_type": "code",
   "execution_count": 9,
   "metadata": {},
   "outputs": [
    {
     "name": "stdout",
     "output_type": "stream",
     "text": [
      "Thanks for the assumption.\n",
      "Hi body language and attitude is atrocious. We should dump him.\n",
      "Oh, so you do have that experience. You're a homosexual alcoholic. I wouldn't wish that on anyone. Who are they harming, themselves. Homosexuality is a disorder that results in corruption of the soul and also the inability to procreate. \n",
      "Haha I agree.\n",
      "She wants to have her cake and eat it too.  A piece of land is an investment. A car is a depreciating asset. Even if you throw aside the deal you made, buying land is a far better investment.\n"
     ]
    }
   ],
   "source": [
    "for t in sdf.text.head():\n",
    "    print(t)"
   ]
  },
  {
   "cell_type": "code",
   "execution_count": 10,
   "metadata": {},
   "outputs": [
    {
     "data": {
      "text/html": [
       "<div>\n",
       "<style scoped>\n",
       "    .dataframe tbody tr th:only-of-type {\n",
       "        vertical-align: middle;\n",
       "    }\n",
       "\n",
       "    .dataframe tbody tr th {\n",
       "        vertical-align: top;\n",
       "    }\n",
       "\n",
       "    .dataframe thead th {\n",
       "        text-align: right;\n",
       "    }\n",
       "</style>\n",
       "<table border=\"1\" class=\"dataframe\">\n",
       "  <thead>\n",
       "    <tr style=\"text-align: right;\">\n",
       "      <th></th>\n",
       "      <th>text</th>\n",
       "      <th>reddit_id</th>\n",
       "      <th>conversational_prob</th>\n",
       "    </tr>\n",
       "  </thead>\n",
       "  <tbody>\n",
       "    <tr>\n",
       "      <th>15</th>\n",
       "      <td>Come over to classical, folks. You can spend a...</td>\n",
       "      <td>dtjotj1</td>\n",
       "      <td>0.989505</td>\n",
       "    </tr>\n",
       "    <tr>\n",
       "      <th>78330</th>\n",
       "      <td>This man speaks truth. Just this morning I was...</td>\n",
       "      <td>dubyvys</td>\n",
       "      <td>0.989511</td>\n",
       "    </tr>\n",
       "    <tr>\n",
       "      <th>56840</th>\n",
       "      <td>Wondering why Salvador kiks arse? I see your p...</td>\n",
       "      <td>du4di6b</td>\n",
       "      <td>0.989512</td>\n",
       "    </tr>\n",
       "    <tr>\n",
       "      <th>104862</th>\n",
       "      <td>No, you fool. With your skinny arms --- pretze...</td>\n",
       "      <td>dulebvz</td>\n",
       "      <td>0.989512</td>\n",
       "    </tr>\n",
       "    <tr>\n",
       "      <th>96</th>\n",
       "      <td>You callin' me pal, chief?  Huh??  Who you cal...</td>\n",
       "      <td>dtjpxoy</td>\n",
       "      <td>0.989513</td>\n",
       "    </tr>\n",
       "  </tbody>\n",
       "</table>\n",
       "</div>"
      ],
      "text/plain": [
       "                                                     text reddit_id   \n",
       "15      Come over to classical, folks. You can spend a...   dtjotj1  \\\n",
       "78330   This man speaks truth. Just this morning I was...   dubyvys   \n",
       "56840   Wondering why Salvador kiks arse? I see your p...   du4di6b   \n",
       "104862  No, you fool. With your skinny arms --- pretze...   dulebvz   \n",
       "96      You callin' me pal, chief?  Huh??  Who you cal...   dtjpxoy   \n",
       "\n",
       "        conversational_prob  \n",
       "15                 0.989505  \n",
       "78330              0.989511  \n",
       "56840              0.989512  \n",
       "104862             0.989512  \n",
       "96                 0.989513  "
      ]
     },
     "execution_count": 10,
     "metadata": {},
     "output_type": "execute_result"
    }
   ],
   "source": [
    "sdf.tail()"
   ]
  },
  {
   "cell_type": "code",
   "execution_count": null,
   "metadata": {},
   "outputs": [],
   "source": [
    "for t in sdf.text.tail():\n",
    "    print(t)"
   ]
  }
 ],
 "metadata": {
  "kernelspec": {
   "display_name": "Python 3",
   "language": "python",
   "name": "python3"
  },
  "language_info": {
   "codemirror_mode": {
    "name": "ipython",
    "version": 3
   },
   "file_extension": ".py",
   "mimetype": "text/x-python",
   "name": "python",
   "nbconvert_exporter": "python",
   "pygments_lexer": "ipython3",
   "version": "3.8.5"
  }
 },
 "nbformat": 4,
 "nbformat_minor": 4
}
